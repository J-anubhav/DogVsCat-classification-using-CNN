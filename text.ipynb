{
 "cells": [
  {
   "cell_type": "markdown",
   "id": "6d11369a",
   "metadata": {},
   "source": [
    "# New model"
   ]
  },
  {
   "cell_type": "code",
   "execution_count": 41,
   "id": "845eaafc",
   "metadata": {},
   "outputs": [],
   "source": [
    "import numpy as np\n",
    "import matplotlib.pyplot as plt\n",
    "import tensorflow as tf\n",
    "from tensorflow.keras.models import Sequential, Model\n",
    "from tensorflow.keras.layers import (Conv2D, MaxPooling2D, Flatten, Dense, Dropout, BatchNormalization, GlobalAveragePooling2D)\n",
    "from tensorflow.keras.preprocessing.image import ImageDataGenerator\n",
    "from tensorflow.keras.callbacks import (EarlyStopping, ReduceLROnPlateau, ModelCheckpoint)\n",
    "from tensorflow.keras.optimizers import Adam\n",
    "from tensorflow.keras.applications import VGG16\n",
    "from sklearn.metrics import confusion_matrix, classification_report\n",
    "import seaborn as sns"
   ]
  },
  {
   "cell_type": "markdown",
   "id": "6263eb4b",
   "metadata": {},
   "source": [
    "## Load and preprocessing data"
   ]
  },
  {
   "cell_type": "code",
   "execution_count": 2,
   "id": "7dbebdfd",
   "metadata": {},
   "outputs": [],
   "source": [
    "def load_and_preprocess_data():\n",
    "    \"\"\"Load data with improved preprocessing\"\"\"\n",
    "    try:\n",
    "        X_train = np.loadtxt('input.csv', delimiter=',')\n",
    "        X_test = np.loadtxt('input_test.csv', delimiter=',')\n",
    "        Y_train = np.loadtxt('labels.csv', delimiter=',')\n",
    "        Y_test = np.loadtxt('labels_test.csv', delimiter=',')\n",
    "    except ValueError:\n",
    "        import pandas as pd\n",
    "        X_train = pd.read_csv('input.csv').to_numpy()\n",
    "        X_test = pd.read_csv('input_test.csv').to_numpy()\n",
    "        Y_train = pd.read_csv('labels.csv').to_numpy()\n",
    "        Y_test = pd.read_csv('labels_test.csv').to_numpy()\n",
    "    \n",
    "    # Reshape data\n",
    "    X_train = X_train.reshape(-1, 100, 100, 3)\n",
    "    X_test = X_test.reshape(-1, 100, 100, 3)\n",
    "    Y_train = Y_train.reshape(-1, 1)\n",
    "    Y_test = Y_test.reshape(-1, 1)\n",
    "    \n",
    "    # Normalize pixel values\n",
    "    X_train = X_train.astype('float32') / 255.0\n",
    "    X_test = X_test.astype('float32') / 255.0\n",
    "    \n",
    "    # Per-channel normalization \n",
    "    # Compute mean and std per channel on training data\n",
    "    train_mean = np.mean(X_train, axis=(0, 1, 2))\n",
    "    train_std = np.std(X_train, axis=(0, 1, 2))\n",
    "    \n",
    "    # Apply normalization\n",
    "    X_train = (X_train - train_mean) / (train_std + 1e-7)\n",
    "    X_test = (X_test - train_mean) / (train_std + 1e-7)\n",
    "    \n",
    "    print(f\"Training data shape: {X_train.shape}\")\n",
    "    print(f\"Test data shape: {X_test.shape}\")\n",
    "    print(f\"Training labels distribution: {np.bincount(Y_train.astype(int).flatten())}\")\n",
    "    \n",
    "    return X_train, X_test, Y_train, Y_test"
   ]
  },
  {
   "cell_type": "markdown",
   "id": "2a8d8e8e",
   "metadata": {},
   "source": [
    "# data augmentatio"
   ]
  },
  {
   "cell_type": "code",
   "execution_count": 3,
   "id": "11b6d668",
   "metadata": {},
   "outputs": [],
   "source": [
    "def create_data_generators(X_train, Y_train, X_test, Y_test):\n",
    "    \"\"\"Create data generators with more aggressive augmentation\"\"\"\n",
    "    train_datagen = ImageDataGenerator(\n",
    "        rotation_range=30,\n",
    "        width_shift_range=0.3,\n",
    "        height_shift_range=0.3,\n",
    "        horizontal_flip=True,\n",
    "        zoom_range=0.3,\n",
    "        shear_range=0.2,\n",
    "        brightness_range=[0.8, 1.2],\n",
    "        fill_mode='nearest'\n",
    "    )\n",
    "    \n",
    "    # No augmentation for validation data\n",
    "    val_datagen = ImageDataGenerator()\n",
    "    \n",
    "    train_generator = train_datagen.flow(X_train, Y_train, batch_size=32)\n",
    "    val_generator = val_datagen.flow(X_test, Y_test, batch_size=32, shuffle=False)\n",
    "    \n",
    "    return train_generator, val_generator\n"
   ]
  },
  {
   "cell_type": "markdown",
   "id": "6472e3f9",
   "metadata": {},
   "source": [
    "# CNN architecture"
   ]
  },
  {
   "cell_type": "code",
   "execution_count": 4,
   "id": "89fbc077",
   "metadata": {},
   "outputs": [],
   "source": [
    "def create_improved_model():\n",
    "    \"\"\"Create an improved CNN model with better architecture\"\"\"\n",
    "    model = Sequential([\n",
    "        # First Convolutional Block\n",
    "        Conv2D(32, (3, 3), activation='relu', input_shape=(100, 100, 3)),\n",
    "        BatchNormalization(),\n",
    "        Conv2D(32, (3, 3), activation='relu'),\n",
    "        MaxPooling2D((2, 2)),\n",
    "        Dropout(0.25),\n",
    "        \n",
    "        # Second Convolutional Block\n",
    "        Conv2D(64, (3, 3), activation='relu'),\n",
    "        BatchNormalization(),\n",
    "        Conv2D(64, (3, 3), activation='relu'),\n",
    "        MaxPooling2D((2, 2)),\n",
    "        Dropout(0.25),\n",
    "        \n",
    "        # Third Convolutional Block\n",
    "        Conv2D(128, (3, 3), activation='relu'),\n",
    "        BatchNormalization(),\n",
    "        Conv2D(128, (3, 3), activation='relu'),\n",
    "        MaxPooling2D((2, 2)),\n",
    "        Dropout(0.25),\n",
    "        \n",
    "        # Fourth Convolutional Block\n",
    "        Conv2D(256, (3, 3), activation='relu'),\n",
    "        BatchNormalization(),\n",
    "        Dropout(0.25),\n",
    "        \n",
    "        # Global Average Pooling instead of Flatten\n",
    "        GlobalAveragePooling2D(),\n",
    "        \n",
    "        # Dense layers\n",
    "        Dense(512, activation='relu'),\n",
    "        BatchNormalization(),\n",
    "        Dropout(0.5),\n",
    "        Dense(256, activation='relu'),\n",
    "        Dropout(0.5),\n",
    "        Dense(1, activation='sigmoid')\n",
    "    ])\n",
    "    \n",
    "    return model\n"
   ]
  },
  {
   "cell_type": "markdown",
   "id": "ba439f73",
   "metadata": {},
   "source": [
    "# Transfer learning model (VGG16-based)"
   ]
  },
  {
   "cell_type": "code",
   "execution_count": 5,
   "id": "608f81d4",
   "metadata": {},
   "outputs": [],
   "source": [
    "def create_transfer_learning_model():\n",
    "    \"\"\"Create a transfer learning model using VGG16\"\"\"\n",
    "    from tensorflow.keras.applications import VGG16\n",
    "    from tensorflow.keras.models import Model\n",
    "    \n",
    "    # Load pre-trained VGG16 model\n",
    "    base_model = VGG16(weights='imagenet', include_top=False, input_shape=(100, 100, 3))\n",
    "    \n",
    "    # Freeze early layers\n",
    "    for layer in base_model.layers[:-4]:\n",
    "        layer.trainable = False\n",
    "    \n",
    "    # Add custom classifier\n",
    "    x = base_model.output\n",
    "    x = GlobalAveragePooling2D()(x)\n",
    "    x = Dense(512, activation='relu')(x)\n",
    "    x = BatchNormalization()(x)\n",
    "    x = Dropout(0.5)(x)\n",
    "    x = Dense(256, activation='relu')(x)\n",
    "    x = Dropout(0.5)(x)\n",
    "    predictions = Dense(1, activation='sigmoid')(x)\n",
    "    \n",
    "    model = Model(inputs=base_model.input, outputs=predictions)\n",
    "    return model"
   ]
  },
  {
   "cell_type": "markdown",
   "id": "1208d97c",
   "metadata": {},
   "source": [
    "# Training "
   ]
  },
  {
   "cell_type": "code",
   "execution_count": 6,
   "id": "b748c2d6",
   "metadata": {},
   "outputs": [],
   "source": [
    "def train_model(model, train_generator, val_generator, model_name=\"enhanced_model\"):\n",
    "    \"\"\"Train the model with advanced callbacks\"\"\"\n",
    "    \n",
    "    # Compile with optimized parameters\n",
    "    optimizer = Adam(learning_rate=0.001, beta_1=0.9, beta_2=0.999)\n",
    "    model.compile(\n",
    "        optimizer=optimizer,\n",
    "        loss='binary_crossentropy',\n",
    "        metrics=['accuracy']\n",
    "    )\n",
    "    \n",
    "    # Advanced callbacks\n",
    "    callbacks = [\n",
    "        EarlyStopping(\n",
    "            monitor='val_accuracy',\n",
    "            patience=10,\n",
    "            restore_best_weights=True,\n",
    "            verbose=1\n",
    "        ),\n",
    "        ReduceLROnPlateau(\n",
    "            monitor='val_loss',\n",
    "            factor=0.5,\n",
    "            patience=5,\n",
    "            min_lr=1e-7,\n",
    "            verbose=1\n",
    "        ),\n",
    "        ModelCheckpoint(\n",
    "            f'{model_name}_best.h5',\n",
    "            monitor='val_accuracy',\n",
    "            save_best_only=True,\n",
    "            verbose=1\n",
    "        )\n",
    "    ]\n",
    "    \n",
    "    # Train the model\n",
    "    history = model.fit(\n",
    "        train_generator,\n",
    "        epochs=100,  # More epochs with early stopping\n",
    "        validation_data=val_generator,\n",
    "        callbacks=callbacks,\n",
    "        verbose=1\n",
    "    )\n",
    "    \n",
    "    return history\n"
   ]
  },
  {
   "cell_type": "markdown",
   "id": "c8bce0c3",
   "metadata": {},
   "source": [
    "# Evaluation and visualization"
   ]
  },
  {
   "cell_type": "code",
   "execution_count": 7,
   "id": "b2362f99",
   "metadata": {},
   "outputs": [],
   "source": [
    "def evaluate_and_visualize(model, X_test, Y_test):\n",
    "    \"\"\"Comprehensive model evaluation\"\"\"\n",
    "    \n",
    "    # Make predictions\n",
    "    y_pred_prob = model.predict(X_test)\n",
    "    y_pred = (y_pred_prob > 0.5).astype(int)\n",
    "    \n",
    "    # Calculate accuracy\n",
    "    accuracy = np.mean(y_pred.flatten() == Y_test.flatten())\n",
    "    print(f\"Final Test Accuracy: {accuracy:.4f}\")\n",
    "    \n",
    "    # Confusion Matrix\n",
    "    cm = confusion_matrix(Y_test, y_pred)\n",
    "    plt.figure(figsize=(8, 6))\n",
    "    sns.heatmap(cm, annot=True, fmt='d', cmap='Blues', \n",
    "                xticklabels=['Dog', 'Cat'], yticklabels=['Dog', 'Cat'])\n",
    "    plt.xlabel('Predicted')\n",
    "    plt.ylabel('True')\n",
    "    plt.title('Confusion Matrix - Enhanced Model')\n",
    "    plt.show()\n",
    "    \n",
    "    # Classification Report\n",
    "    print(\"\\nClassification Report:\")\n",
    "    print(classification_report(Y_test, y_pred, target_names=['Dog', 'Cat']))\n",
    "    \n",
    "    return accuracy\n"
   ]
  },
  {
   "cell_type": "markdown",
   "id": "581508c7",
   "metadata": {},
   "source": [
    "# Ensemble method"
   ]
  },
  {
   "cell_type": "code",
   "execution_count": 8,
   "id": "10866da9",
   "metadata": {},
   "outputs": [],
   "source": [
    "def create_ensemble_prediction(models, X_test):\n",
    "    \"\"\"Create ensemble predictions from multiple models\"\"\"\n",
    "    predictions = []\n",
    "    \n",
    "    for model in models:\n",
    "        pred = model.predict(X_test)\n",
    "        predictions.append(pred)\n",
    "    \n",
    "    # Average predictions\n",
    "    ensemble_pred = np.mean(predictions, axis=0)\n",
    "    return (ensemble_pred > 0.5).astype(int)\n",
    "\n",
    "# Main execution function\n",
    "def main():\n",
    "    \"\"\"Main function to run the entire pipeline\"\"\"\n",
    "    \n",
    "    print(\"=\"*50)\n",
    "    print(\"ENHANCED DOG VS CAT CLASSIFICATION\")\n",
    "    print(\"=\"*50)\n",
    "    \n",
    "    # Step 1: Load and preprocess data\n",
    "    print(\"\\n1. Loading and preprocessing data...\")\n",
    "    X_train, X_test, Y_train, Y_test = load_and_preprocess_data()\n",
    "    \n",
    "    # Step 2: Create data generators\n",
    "    print(\"\\n2. Creating data generators...\")\n",
    "    train_gen, val_gen = create_data_generators(X_train, Y_train, X_test, Y_test)\n",
    "    \n",
    "    # Step 3: Train improved CNN model\n",
    "    print(\"\\n3. Training improved CNN model...\")\n",
    "    improved_model = create_improved_model()\n",
    "    print(f\"Model parameters: {improved_model.count_params():,}\")\n",
    "    \n",
    "    history1 = train_model(improved_model, train_gen, val_gen, \"improved_cnn\")\n",
    "    acc1 = evaluate_and_visualize(improved_model, X_test, Y_test)\n",
    "    \n",
    "    # Step 4: Train transfer learning model\n",
    "    print(\"\\n4. Training transfer learning model...\")\n",
    "    transfer_model = create_transfer_learning_model()\n",
    "    print(f\"Transfer model parameters: {transfer_model.count_params():,}\")\n",
    "    \n",
    "    # Recreate generators for transfer learning\n",
    "    train_gen2, val_gen2 = create_data_generators(X_train, Y_train, X_test, Y_test)\n",
    "    history2 = train_model(transfer_model, train_gen2, val_gen2, \"transfer_learning\")\n",
    "    acc2 = evaluate_and_visualize(transfer_model, X_test, Y_test)\n",
    "    "
   ]
  },
  {
   "cell_type": "markdown",
   "id": "6b3857a4",
   "metadata": {},
   "source": [
    "# prediction"
   ]
  },
  {
   "cell_type": "code",
   "execution_count": 9,
   "id": "974254d1",
   "metadata": {},
   "outputs": [],
   "source": [
    "def create_ensemble_prediction(models, X_test):\n",
    "    \"\"\"Create ensemble predictions from multiple models\"\"\"\n",
    "    predictions = []\n",
    "    \n",
    "    for model in models:\n",
    "        pred = model.predict(X_test)\n",
    "        predictions.append(pred)\n",
    "    \n",
    "    # Average predictions\n",
    "    ensemble_pred = np.mean(predictions, axis=0)\n",
    "    return (ensemble_pred > 0.5).astype(int)\n",
    "\n",
    "# Main execution function\n",
    "def main():\n",
    "    \"\"\"Main function to run the entire pipeline\"\"\"\n",
    "    \n",
    "    print(\"=\"*50)\n",
    "    print(\"ENHANCED DOG VS CAT CLASSIFICATION\")\n",
    "    print(\"=\"*50)\n",
    "    \n",
    "    # Step 1: Load and preprocess data\n",
    "    print(\"\\n1. Loading and preprocessing data...\")\n",
    "    X_train, X_test, Y_train, Y_test = load_and_preprocess_data()\n",
    "    \n",
    "    # Step 2: Create data generators\n",
    "    print(\"\\n2. Creating data generators...\")\n",
    "    train_gen, val_gen = create_data_generators(X_train, Y_train, X_test, Y_test)\n",
    "    \n",
    "    # Step 3: Train improved CNN model\n",
    "    print(\"\\n3. Training improved CNN model...\")\n",
    "    improved_model = create_improved_model()\n",
    "    print(f\"Model parameters: {improved_model.count_params():,}\")\n",
    "    \n",
    "    history1 = train_model(improved_model, train_gen, val_gen, \"improved_cnn\")\n",
    "    acc1 = evaluate_and_visualize(improved_model, X_test, Y_test)\n",
    "    \n",
    "    # Step 4: Train transfer learning model\n",
    "    print(\"\\n4. Training transfer learning model...\")\n",
    "    transfer_model = create_transfer_learning_model()\n",
    "    print(f\"Transfer model parameters: {transfer_model.count_params():,}\")\n",
    "    \n",
    "    # Recreate generators for transfer learning\n",
    "    train_gen2, val_gen2 = create_data_generators(X_train, Y_train, X_test, Y_test)\n",
    "    history2 = train_model(transfer_model, train_gen2, val_gen2, \"transfer_learning\")\n",
    "    acc2 = evaluate_and_visualize(transfer_model, X_test, Y_test)\n",
    "    \n",
    "    # Step 5: Ensemble prediction\n",
    "    print(\"\\n5. Creating ensemble prediction...\")\n",
    "    ensemble_pred = create_ensemble_prediction([improved_model, transfer_model], X_test)\n",
    "    ensemble_acc = np.mean(ensemble_pred.flatten() == Y_test.flatten())\n",
    "    print(f\"Ensemble Accuracy: {ensemble_acc:.4f}\")\n",
    "    \n",
    "    # Final comparison\n",
    "    print(\"\\n\" + \"=\"*50)\n",
    "    print(\"FINAL RESULTS COMPARISON:\")\n",
    "    print(\"=\"*50)\n",
    "    print(f\"Improved CNN Accuracy: {acc1:.4f}\")\n",
    "    print(f\"Transfer Learning Accuracy: {acc2:.4f}\")\n",
    "    print(f\"Ensemble Accuracy: {ensemble_acc:.4f}\")\n",
    "    print(\"=\"*50)\n",
    "    \n",
    "    return improved_model, transfer_model, ensemble_acc\n",
    "\n",
    "# Additional utility functions\n",
    "def plot_training_history(history):\n",
    "    \"\"\"Plot training history\"\"\"\n",
    "    plt.figure(figsize=(12, 4))\n",
    "    \n",
    "    plt.subplot(1, 2, 1)\n",
    "    plt.plot(history.history['accuracy'], label='Training Accuracy')\n",
    "    plt.plot(history.history['val_accuracy'], label='Validation Accuracy')\n",
    "    plt.title('Model Accuracy')\n",
    "    plt.xlabel('Epoch')\n",
    "    plt.ylabel('Accuracy')\n",
    "    plt.legend()\n",
    "    \n",
    "    plt.subplot(1, 2, 2)\n",
    "    plt.plot(history.history['loss'], label='Training Loss')\n",
    "    plt.plot(history.history['val_loss'], label='Validation Loss')\n",
    "    plt.title('Model Loss')\n",
    "    plt.xlabel('Epoch')\n",
    "    plt.ylabel('Loss')\n",
    "    plt.legend()\n",
    "    \n",
    "    plt.tight_layout()\n",
    "    plt.show()\n",
    "\n",
    "def show_prediction_examples(model, X_test, Y_test, num_examples=8):\n",
    "    \"\"\"Show prediction examples\"\"\"\n",
    "    indices = np.random.choice(len(X_test), num_examples, replace=False)\n",
    "    \n",
    "    plt.figure(figsize=(16, 8))\n",
    "    for i, idx in enumerate(indices):\n",
    "        plt.subplot(2, 4, i+1)\n",
    "        \n",
    "        # Denormalize image for display (if normalized)\n",
    "        img = X_test[idx]\n",
    "        if img.min() < 0:  # If normalized\n",
    "            img = (img - img.min()) / (img.max() - img.min())\n",
    "        \n",
    "        plt.imshow(img)\n",
    "        \n",
    "        pred_prob = model.predict(np.expand_dims(X_test[idx], axis=0))[0][0]\n",
    "        pred_class = \"Cat\" if pred_prob > 0.5 else \"Dog\"\n",
    "        true_class = \"Cat\" if Y_test[idx][0] > 0.5 else \"Dog\"\n",
    "        \n",
    "        color = 'green' if pred_class == true_class else 'red'\n",
    "        plt.title(f'True: {true_class}\\nPred: {pred_class} ({pred_prob:.2f})', \n",
    "                 color=color)\n",
    "        plt.axis('off')\n",
    "    \n",
    "    plt.tight_layout()\n",
    "    plt.show()"
   ]
  },
  {
   "cell_type": "markdown",
   "id": "ad69ea25",
   "metadata": {},
   "source": [
    "# Main"
   ]
  },
  {
   "cell_type": "code",
   "execution_count": 10,
   "id": "84d1b1e7",
   "metadata": {},
   "outputs": [
    {
     "name": "stdout",
     "output_type": "stream",
     "text": [
      "==================================================\n",
      "ENHANCED DOG VS CAT CLASSIFICATION\n",
      "==================================================\n",
      "\n",
      "1. Loading and preprocessing data...\n",
      "Training data shape: (2000, 100, 100, 3)\n",
      "Test data shape: (400, 100, 100, 3)\n",
      "Training labels distribution: [1000 1000]\n",
      "\n",
      "2. Creating data generators...\n",
      "\n",
      "3. Training improved CNN model...\n"
     ]
    },
    {
     "name": "stderr",
     "output_type": "stream",
     "text": [
      "/home/anubhav_jha/tf-gpu/lib/python3.12/site-packages/keras/src/layers/convolutional/base_conv.py:113: UserWarning: Do not pass an `input_shape`/`input_dim` argument to a layer. When using Sequential models, prefer using an `Input(shape)` object as the first layer in the model instead.\n",
      "  super().__init__(activity_regularizer=activity_regularizer, **kwargs)\n",
      "WARNING: All log messages before absl::InitializeLog() is called are written to STDERR\n",
      "I0000 00:00:1755413060.123641    1569 gpu_device.cc:2020] Created device /job:localhost/replica:0/task:0/device:GPU:0 with 5563 MB memory:  -> device: 0, name: NVIDIA GeForce RTX 4060 Laptop GPU, pci bus id: 0000:01:00.0, compute capability: 8.9\n"
     ]
    },
    {
     "name": "stdout",
     "output_type": "stream",
     "text": [
      "Model parameters: 849,313\n",
      "Epoch 1/100\n"
     ]
    },
    {
     "name": "stderr",
     "output_type": "stream",
     "text": [
      "/home/anubhav_jha/tf-gpu/lib/python3.12/site-packages/keras/src/trainers/data_adapters/py_dataset_adapter.py:121: UserWarning: Your `PyDataset` class should call `super().__init__(**kwargs)` in its constructor. `**kwargs` can include `workers`, `use_multiprocessing`, `max_queue_size`. Do not pass these arguments to `fit()`, as they will be ignored.\n",
      "  self._warn_if_super_not_called()\n",
      "2025-08-17 06:44:26.122483: I external/local_xla/xla/service/service.cc:163] XLA service 0x7ee324005ed0 initialized for platform CUDA (this does not guarantee that XLA will be used). Devices:\n",
      "2025-08-17 06:44:26.122528: I external/local_xla/xla/service/service.cc:171]   StreamExecutor device (0): NVIDIA GeForce RTX 4060 Laptop GPU, Compute Capability 8.9\n",
      "2025-08-17 06:44:26.282538: I tensorflow/compiler/mlir/tensorflow/utils/dump_mlir_util.cc:269] disabling MLIR crash reproducer, set env var `MLIR_CRASH_REPRODUCER_DIRECTORY` to enable.\n",
      "2025-08-17 06:44:27.194399: I external/local_xla/xla/stream_executor/cuda/cuda_dnn.cc:473] Loaded cuDNN version 91200\n",
      "2025-08-17 06:44:27.744789: I external/local_xla/xla/service/gpu/autotuning/dot_search_space.cc:208] All configs were filtered out because none of them sufficiently match the hints. Maybe the hints set does not contain a good representative set of valid configs? Working around this by using the full hints set instead.\n",
      "2025-08-17 06:44:27.744955: I external/local_xla/xla/service/gpu/autotuning/dot_search_space.cc:208] All configs were filtered out because none of them sufficiently match the hints. Maybe the hints set does not contain a good representative set of valid configs? Working around this by using the full hints set instead.\n",
      "2025-08-17 06:44:28.901788: I external/local_xla/xla/stream_executor/cuda/subprocess_compilation.cc:346] ptxas warning : Registers are spilled to local memory in function 'gemm_fusion_dot_4764', 16 bytes spill stores, 16 bytes spill loads\n",
      "\n",
      "2025-08-17 06:44:29.047570: I external/local_xla/xla/stream_executor/cuda/subprocess_compilation.cc:346] ptxas warning : Registers are spilled to local memory in function 'gemm_fusion_dot_4781', 24 bytes spill stores, 24 bytes spill loads\n",
      "\n",
      "2025-08-17 06:44:29.288041: I external/local_xla/xla/stream_executor/cuda/subprocess_compilation.cc:346] ptxas warning : Registers are spilled to local memory in function 'gemm_fusion_dot_4781', 520 bytes spill stores, 520 bytes spill loads\n",
      "\n",
      "2025-08-17 06:44:29.458516: I external/local_xla/xla/stream_executor/cuda/subprocess_compilation.cc:346] ptxas warning : Registers are spilled to local memory in function 'gemm_fusion_dot_4764', 520 bytes spill stores, 520 bytes spill loads\n",
      "\n",
      "2025-08-17 06:44:33.178351: E external/local_xla/xla/service/slow_operation_alarm.cc:73] Trying algorithm eng25{k2=2,k3=0} for conv (f32[32,64,46,46]{3,2,1,0}, u8[0]{0}) custom-call(f32[32,64,44,44]{3,2,1,0}, f32[64,64,3,3]{3,2,1,0}), window={size=3x3}, dim_labels=bf01_oi01->bf01, custom_call_target=\"__cudnn$convBackwardInput\", backend_config={\"operation_queue_id\":\"0\",\"wait_on_operation_queues\":[],\"cudnn_conv_backend_config\":{\"activation_mode\":\"kNone\",\"conv_result_scale\":1,\"side_input_scale\":0,\"leakyrelu_alpha\":0},\"force_earliest_schedule\":false,\"reification_cost\":[]} is taking a while...\n",
      "2025-08-17 06:44:33.180162: E external/local_xla/xla/service/slow_operation_alarm.cc:140] The operation took 1.411886382s\n",
      "Trying algorithm eng25{k2=2,k3=0} for conv (f32[32,64,46,46]{3,2,1,0}, u8[0]{0}) custom-call(f32[32,64,44,44]{3,2,1,0}, f32[64,64,3,3]{3,2,1,0}), window={size=3x3}, dim_labels=bf01_oi01->bf01, custom_call_target=\"__cudnn$convBackwardInput\", backend_config={\"operation_queue_id\":\"0\",\"wait_on_operation_queues\":[],\"cudnn_conv_backend_config\":{\"activation_mode\":\"kNone\",\"conv_result_scale\":1,\"side_input_scale\":0,\"leakyrelu_alpha\":0},\"force_earliest_schedule\":false,\"reification_cost\":[]} is taking a while...\n",
      "I0000 00:00:1755413080.497931    3570 device_compiler.h:196] Compiled cluster using XLA!  This line is logged at most once for the lifetime of the process.\n"
     ]
    },
    {
     "name": "stdout",
     "output_type": "stream",
     "text": [
      "\u001b[1m63/63\u001b[0m \u001b[32m━━━━━━━━━━━━━━━━━━━━\u001b[0m\u001b[37m\u001b[0m \u001b[1m0s\u001b[0m 227ms/step - accuracy: 0.5141 - loss: 1.0847\n",
      "Epoch 1: val_accuracy improved from None to 0.51500, saving model to improved_cnn_best.h5\n"
     ]
    },
    {
     "name": "stderr",
     "output_type": "stream",
     "text": [
      "WARNING:absl:You are saving your model as an HDF5 file via `model.save()` or `keras.saving.save_model(model)`. This file format is considered legacy. We recommend using instead the native Keras format, e.g. `model.save('my_model.keras')` or `keras.saving.save_model(model, 'my_model.keras')`. \n"
     ]
    },
    {
     "name": "stdout",
     "output_type": "stream",
     "text": [
      "\u001b[1m63/63\u001b[0m \u001b[32m━━━━━━━━━━━━━━━━━━━━\u001b[0m\u001b[37m\u001b[0m \u001b[1m37s\u001b[0m 287ms/step - accuracy: 0.5280 - loss: 1.0446 - val_accuracy: 0.5150 - val_loss: 0.7073 - learning_rate: 0.0010\n",
      "Epoch 2/100\n",
      "\u001b[1m63/63\u001b[0m \u001b[32m━━━━━━━━━━━━━━━━━━━━\u001b[0m\u001b[37m\u001b[0m \u001b[1m0s\u001b[0m 66ms/step - accuracy: 0.5330 - loss: 1.0280\n",
      "Epoch 2: val_accuracy improved from 0.51500 to 0.54500, saving model to improved_cnn_best.h5\n"
     ]
    },
    {
     "name": "stderr",
     "output_type": "stream",
     "text": [
      "WARNING:absl:You are saving your model as an HDF5 file via `model.save()` or `keras.saving.save_model(model)`. This file format is considered legacy. We recommend using instead the native Keras format, e.g. `model.save('my_model.keras')` or `keras.saving.save_model(model, 'my_model.keras')`. \n"
     ]
    },
    {
     "name": "stdout",
     "output_type": "stream",
     "text": [
      "\u001b[1m63/63\u001b[0m \u001b[32m━━━━━━━━━━━━━━━━━━━━\u001b[0m\u001b[37m\u001b[0m \u001b[1m5s\u001b[0m 73ms/step - accuracy: 0.5210 - loss: 1.0037 - val_accuracy: 0.5450 - val_loss: 0.6879 - learning_rate: 0.0010\n",
      "Epoch 3/100\n",
      "\u001b[1m63/63\u001b[0m \u001b[32m━━━━━━━━━━━━━━━━━━━━\u001b[0m\u001b[37m\u001b[0m \u001b[1m0s\u001b[0m 88ms/step - accuracy: 0.5271 - loss: 0.9343\n",
      "Epoch 3: val_accuracy improved from 0.54500 to 0.56250, saving model to improved_cnn_best.h5\n"
     ]
    },
    {
     "name": "stderr",
     "output_type": "stream",
     "text": [
      "WARNING:absl:You are saving your model as an HDF5 file via `model.save()` or `keras.saving.save_model(model)`. This file format is considered legacy. We recommend using instead the native Keras format, e.g. `model.save('my_model.keras')` or `keras.saving.save_model(model, 'my_model.keras')`. \n"
     ]
    },
    {
     "name": "stdout",
     "output_type": "stream",
     "text": [
      "\u001b[1m63/63\u001b[0m \u001b[32m━━━━━━━━━━━━━━━━━━━━\u001b[0m\u001b[37m\u001b[0m \u001b[1m6s\u001b[0m 95ms/step - accuracy: 0.5255 - loss: 0.9163 - val_accuracy: 0.5625 - val_loss: 0.6673 - learning_rate: 0.0010\n",
      "Epoch 4/100\n",
      "\u001b[1m63/63\u001b[0m \u001b[32m━━━━━━━━━━━━━━━━━━━━\u001b[0m\u001b[37m\u001b[0m \u001b[1m0s\u001b[0m 67ms/step - accuracy: 0.5376 - loss: 0.8514\n",
      "Epoch 4: val_accuracy did not improve from 0.56250\n",
      "\u001b[1m63/63\u001b[0m \u001b[32m━━━━━━━━━━━━━━━━━━━━\u001b[0m\u001b[37m\u001b[0m \u001b[1m4s\u001b[0m 69ms/step - accuracy: 0.5325 - loss: 0.8531 - val_accuracy: 0.5250 - val_loss: 0.6957 - learning_rate: 0.0010\n",
      "Epoch 5/100\n",
      "\u001b[1m63/63\u001b[0m \u001b[32m━━━━━━━━━━━━━━━━━━━━\u001b[0m\u001b[37m\u001b[0m \u001b[1m0s\u001b[0m 64ms/step - accuracy: 0.5788 - loss: 0.7773\n",
      "Epoch 5: val_accuracy did not improve from 0.56250\n",
      "\u001b[1m63/63\u001b[0m \u001b[32m━━━━━━━━━━━━━━━━━━━━\u001b[0m\u001b[37m\u001b[0m \u001b[1m4s\u001b[0m 67ms/step - accuracy: 0.5625 - loss: 0.7831 - val_accuracy: 0.5225 - val_loss: 0.7354 - learning_rate: 0.0010\n",
      "Epoch 6/100\n",
      "\u001b[1m63/63\u001b[0m \u001b[32m━━━━━━━━━━━━━━━━━━━━\u001b[0m\u001b[37m\u001b[0m \u001b[1m0s\u001b[0m 64ms/step - accuracy: 0.5516 - loss: 0.7570\n",
      "Epoch 6: val_accuracy improved from 0.56250 to 0.62000, saving model to improved_cnn_best.h5\n"
     ]
    },
    {
     "name": "stderr",
     "output_type": "stream",
     "text": [
      "WARNING:absl:You are saving your model as an HDF5 file via `model.save()` or `keras.saving.save_model(model)`. This file format is considered legacy. We recommend using instead the native Keras format, e.g. `model.save('my_model.keras')` or `keras.saving.save_model(model, 'my_model.keras')`. \n"
     ]
    },
    {
     "name": "stdout",
     "output_type": "stream",
     "text": [
      "\u001b[1m63/63\u001b[0m \u001b[32m━━━━━━━━━━━━━━━━━━━━\u001b[0m\u001b[37m\u001b[0m \u001b[1m5s\u001b[0m 72ms/step - accuracy: 0.5515 - loss: 0.7508 - val_accuracy: 0.6200 - val_loss: 0.6863 - learning_rate: 0.0010\n",
      "Epoch 7/100\n",
      "\u001b[1m63/63\u001b[0m \u001b[32m━━━━━━━━━━━━━━━━━━━━\u001b[0m\u001b[37m\u001b[0m \u001b[1m0s\u001b[0m 65ms/step - accuracy: 0.5418 - loss: 0.7837\n",
      "Epoch 7: val_accuracy did not improve from 0.62000\n",
      "\u001b[1m63/63\u001b[0m \u001b[32m━━━━━━━━━━━━━━━━━━━━\u001b[0m\u001b[37m\u001b[0m \u001b[1m4s\u001b[0m 67ms/step - accuracy: 0.5485 - loss: 0.7628 - val_accuracy: 0.6150 - val_loss: 0.6803 - learning_rate: 0.0010\n",
      "Epoch 8/100\n",
      "\u001b[1m63/63\u001b[0m \u001b[32m━━━━━━━━━━━━━━━━━━━━\u001b[0m\u001b[37m\u001b[0m \u001b[1m0s\u001b[0m 66ms/step - accuracy: 0.5473 - loss: 0.7275\n",
      "Epoch 8: ReduceLROnPlateau reducing learning rate to 0.0005000000237487257.\n",
      "\n",
      "Epoch 8: val_accuracy did not improve from 0.62000\n",
      "\u001b[1m63/63\u001b[0m \u001b[32m━━━━━━━━━━━━━━━━━━━━\u001b[0m\u001b[37m\u001b[0m \u001b[1m4s\u001b[0m 69ms/step - accuracy: 0.5580 - loss: 0.7324 - val_accuracy: 0.5750 - val_loss: 0.6674 - learning_rate: 0.0010\n",
      "Epoch 9/100\n",
      "\u001b[1m63/63\u001b[0m \u001b[32m━━━━━━━━━━━━━━━━━━━━\u001b[0m\u001b[37m\u001b[0m \u001b[1m0s\u001b[0m 65ms/step - accuracy: 0.5767 - loss: 0.7063\n",
      "Epoch 9: val_accuracy did not improve from 0.62000\n",
      "\u001b[1m63/63\u001b[0m \u001b[32m━━━━━━━━━━━━━━━━━━━━\u001b[0m\u001b[37m\u001b[0m \u001b[1m4s\u001b[0m 68ms/step - accuracy: 0.5965 - loss: 0.6960 - val_accuracy: 0.5775 - val_loss: 0.6529 - learning_rate: 5.0000e-04\n",
      "Epoch 10/100\n",
      "\u001b[1m63/63\u001b[0m \u001b[32m━━━━━━━━━━━━━━━━━━━━\u001b[0m\u001b[37m\u001b[0m \u001b[1m0s\u001b[0m 87ms/step - accuracy: 0.5981 - loss: 0.7022\n",
      "Epoch 10: val_accuracy improved from 0.62000 to 0.67250, saving model to improved_cnn_best.h5\n"
     ]
    },
    {
     "name": "stderr",
     "output_type": "stream",
     "text": [
      "WARNING:absl:You are saving your model as an HDF5 file via `model.save()` or `keras.saving.save_model(model)`. This file format is considered legacy. We recommend using instead the native Keras format, e.g. `model.save('my_model.keras')` or `keras.saving.save_model(model, 'my_model.keras')`. \n"
     ]
    },
    {
     "name": "stdout",
     "output_type": "stream",
     "text": [
      "\u001b[1m63/63\u001b[0m \u001b[32m━━━━━━━━━━━━━━━━━━━━\u001b[0m\u001b[37m\u001b[0m \u001b[1m6s\u001b[0m 94ms/step - accuracy: 0.5970 - loss: 0.6937 - val_accuracy: 0.6725 - val_loss: 0.6038 - learning_rate: 5.0000e-04\n",
      "Epoch 11/100\n",
      "\u001b[1m63/63\u001b[0m \u001b[32m━━━━━━━━━━━━━━━━━━━━\u001b[0m\u001b[37m\u001b[0m \u001b[1m0s\u001b[0m 65ms/step - accuracy: 0.6153 - loss: 0.6596\n",
      "Epoch 11: val_accuracy did not improve from 0.67250\n",
      "\u001b[1m63/63\u001b[0m \u001b[32m━━━━━━━━━━━━━━━━━━━━\u001b[0m\u001b[37m\u001b[0m \u001b[1m4s\u001b[0m 68ms/step - accuracy: 0.6090 - loss: 0.6652 - val_accuracy: 0.6150 - val_loss: 0.6342 - learning_rate: 5.0000e-04\n",
      "Epoch 12/100\n",
      "\u001b[1m63/63\u001b[0m \u001b[32m━━━━━━━━━━━━━━━━━━━━\u001b[0m\u001b[37m\u001b[0m \u001b[1m0s\u001b[0m 64ms/step - accuracy: 0.6132 - loss: 0.6614\n",
      "Epoch 12: val_accuracy did not improve from 0.67250\n",
      "\u001b[1m63/63\u001b[0m \u001b[32m━━━━━━━━━━━━━━━━━━━━\u001b[0m\u001b[37m\u001b[0m \u001b[1m4s\u001b[0m 67ms/step - accuracy: 0.6070 - loss: 0.6675 - val_accuracy: 0.6175 - val_loss: 0.6266 - learning_rate: 5.0000e-04\n",
      "Epoch 13/100\n",
      "\u001b[1m63/63\u001b[0m \u001b[32m━━━━━━━━━━━━━━━━━━━━\u001b[0m\u001b[37m\u001b[0m \u001b[1m0s\u001b[0m 68ms/step - accuracy: 0.5985 - loss: 0.6843\n",
      "Epoch 13: val_accuracy did not improve from 0.67250\n",
      "\u001b[1m63/63\u001b[0m \u001b[32m━━━━━━━━━━━━━━━━━━━━\u001b[0m\u001b[37m\u001b[0m \u001b[1m4s\u001b[0m 70ms/step - accuracy: 0.6130 - loss: 0.6690 - val_accuracy: 0.6600 - val_loss: 0.6142 - learning_rate: 5.0000e-04\n",
      "Epoch 14/100\n",
      "\u001b[1m63/63\u001b[0m \u001b[32m━━━━━━━━━━━━━━━━━━━━\u001b[0m\u001b[37m\u001b[0m \u001b[1m0s\u001b[0m 64ms/step - accuracy: 0.6046 - loss: 0.6575\n",
      "Epoch 14: val_accuracy improved from 0.67250 to 0.67500, saving model to improved_cnn_best.h5\n"
     ]
    },
    {
     "name": "stderr",
     "output_type": "stream",
     "text": [
      "WARNING:absl:You are saving your model as an HDF5 file via `model.save()` or `keras.saving.save_model(model)`. This file format is considered legacy. We recommend using instead the native Keras format, e.g. `model.save('my_model.keras')` or `keras.saving.save_model(model, 'my_model.keras')`. \n"
     ]
    },
    {
     "name": "stdout",
     "output_type": "stream",
     "text": [
      "\u001b[1m63/63\u001b[0m \u001b[32m━━━━━━━━━━━━━━━━━━━━\u001b[0m\u001b[37m\u001b[0m \u001b[1m4s\u001b[0m 70ms/step - accuracy: 0.6125 - loss: 0.6570 - val_accuracy: 0.6750 - val_loss: 0.6163 - learning_rate: 5.0000e-04\n",
      "Epoch 15/100\n",
      "\u001b[1m63/63\u001b[0m \u001b[32m━━━━━━━━━━━━━━━━━━━━\u001b[0m\u001b[37m\u001b[0m \u001b[1m0s\u001b[0m 63ms/step - accuracy: 0.6097 - loss: 0.6649\n",
      "Epoch 15: ReduceLROnPlateau reducing learning rate to 0.0002500000118743628.\n",
      "\n",
      "Epoch 15: val_accuracy improved from 0.67500 to 0.68750, saving model to improved_cnn_best.h5\n"
     ]
    },
    {
     "name": "stderr",
     "output_type": "stream",
     "text": [
      "WARNING:absl:You are saving your model as an HDF5 file via `model.save()` or `keras.saving.save_model(model)`. This file format is considered legacy. We recommend using instead the native Keras format, e.g. `model.save('my_model.keras')` or `keras.saving.save_model(model, 'my_model.keras')`. \n"
     ]
    },
    {
     "name": "stdout",
     "output_type": "stream",
     "text": [
      "\u001b[1m63/63\u001b[0m \u001b[32m━━━━━━━━━━━━━━━━━━━━\u001b[0m\u001b[37m\u001b[0m \u001b[1m4s\u001b[0m 70ms/step - accuracy: 0.6205 - loss: 0.6684 - val_accuracy: 0.6875 - val_loss: 0.6076 - learning_rate: 5.0000e-04\n",
      "Epoch 16/100\n",
      "\u001b[1m63/63\u001b[0m \u001b[32m━━━━━━━━━━━━━━━━━━━━\u001b[0m\u001b[37m\u001b[0m \u001b[1m0s\u001b[0m 65ms/step - accuracy: 0.6343 - loss: 0.6456\n",
      "Epoch 16: val_accuracy did not improve from 0.68750\n",
      "\u001b[1m63/63\u001b[0m \u001b[32m━━━━━━━━━━━━━━━━━━━━\u001b[0m\u001b[37m\u001b[0m \u001b[1m4s\u001b[0m 68ms/step - accuracy: 0.6465 - loss: 0.6359 - val_accuracy: 0.6800 - val_loss: 0.5899 - learning_rate: 2.5000e-04\n",
      "Epoch 17/100\n",
      "\u001b[1m63/63\u001b[0m \u001b[32m━━━━━━━━━━━━━━━━━━━━\u001b[0m\u001b[37m\u001b[0m \u001b[1m0s\u001b[0m 64ms/step - accuracy: 0.6437 - loss: 0.6364\n",
      "Epoch 17: val_accuracy improved from 0.68750 to 0.69500, saving model to improved_cnn_best.h5\n"
     ]
    },
    {
     "name": "stderr",
     "output_type": "stream",
     "text": [
      "WARNING:absl:You are saving your model as an HDF5 file via `model.save()` or `keras.saving.save_model(model)`. This file format is considered legacy. We recommend using instead the native Keras format, e.g. `model.save('my_model.keras')` or `keras.saving.save_model(model, 'my_model.keras')`. \n"
     ]
    },
    {
     "name": "stdout",
     "output_type": "stream",
     "text": [
      "\u001b[1m63/63\u001b[0m \u001b[32m━━━━━━━━━━━━━━━━━━━━\u001b[0m\u001b[37m\u001b[0m \u001b[1m5s\u001b[0m 71ms/step - accuracy: 0.6295 - loss: 0.6430 - val_accuracy: 0.6950 - val_loss: 0.5808 - learning_rate: 2.5000e-04\n",
      "Epoch 18/100\n",
      "\u001b[1m63/63\u001b[0m \u001b[32m━━━━━━━━━━━━━━━━━━━━\u001b[0m\u001b[37m\u001b[0m \u001b[1m0s\u001b[0m 87ms/step - accuracy: 0.6715 - loss: 0.6271\n",
      "Epoch 18: val_accuracy improved from 0.69500 to 0.71500, saving model to improved_cnn_best.h5\n"
     ]
    },
    {
     "name": "stderr",
     "output_type": "stream",
     "text": [
      "WARNING:absl:You are saving your model as an HDF5 file via `model.save()` or `keras.saving.save_model(model)`. This file format is considered legacy. We recommend using instead the native Keras format, e.g. `model.save('my_model.keras')` or `keras.saving.save_model(model, 'my_model.keras')`. \n"
     ]
    },
    {
     "name": "stdout",
     "output_type": "stream",
     "text": [
      "\u001b[1m63/63\u001b[0m \u001b[32m━━━━━━━━━━━━━━━━━━━━\u001b[0m\u001b[37m\u001b[0m \u001b[1m6s\u001b[0m 94ms/step - accuracy: 0.6565 - loss: 0.6364 - val_accuracy: 0.7150 - val_loss: 0.5695 - learning_rate: 2.5000e-04\n",
      "Epoch 19/100\n",
      "\u001b[1m63/63\u001b[0m \u001b[32m━━━━━━━━━━━━━━━━━━━━\u001b[0m\u001b[37m\u001b[0m \u001b[1m0s\u001b[0m 66ms/step - accuracy: 0.6433 - loss: 0.6340\n",
      "Epoch 19: val_accuracy did not improve from 0.71500\n",
      "\u001b[1m63/63\u001b[0m \u001b[32m━━━━━━━━━━━━━━━━━━━━\u001b[0m\u001b[37m\u001b[0m \u001b[1m4s\u001b[0m 69ms/step - accuracy: 0.6635 - loss: 0.6245 - val_accuracy: 0.6150 - val_loss: 0.6446 - learning_rate: 2.5000e-04\n",
      "Epoch 20/100\n",
      "\u001b[1m63/63\u001b[0m \u001b[32m━━━━━━━━━━━━━━━━━━━━\u001b[0m\u001b[37m\u001b[0m \u001b[1m0s\u001b[0m 66ms/step - accuracy: 0.6511 - loss: 0.6190\n",
      "Epoch 20: val_accuracy did not improve from 0.71500\n",
      "\u001b[1m63/63\u001b[0m \u001b[32m━━━━━━━━━━━━━━━━━━━━\u001b[0m\u001b[37m\u001b[0m \u001b[1m4s\u001b[0m 68ms/step - accuracy: 0.6420 - loss: 0.6374 - val_accuracy: 0.6850 - val_loss: 0.5864 - learning_rate: 2.5000e-04\n",
      "Epoch 21/100\n",
      "\u001b[1m63/63\u001b[0m \u001b[32m━━━━━━━━━━━━━━━━━━━━\u001b[0m\u001b[37m\u001b[0m \u001b[1m0s\u001b[0m 69ms/step - accuracy: 0.6605 - loss: 0.6190\n",
      "Epoch 21: val_accuracy did not improve from 0.71500\n",
      "\u001b[1m63/63\u001b[0m \u001b[32m━━━━━━━━━━━━━━━━━━━━\u001b[0m\u001b[37m\u001b[0m \u001b[1m5s\u001b[0m 72ms/step - accuracy: 0.6485 - loss: 0.6277 - val_accuracy: 0.6925 - val_loss: 0.5828 - learning_rate: 2.5000e-04\n",
      "Epoch 22/100\n",
      "\u001b[1m63/63\u001b[0m \u001b[32m━━━━━━━━━━━━━━━━━━━━\u001b[0m\u001b[37m\u001b[0m \u001b[1m0s\u001b[0m 67ms/step - accuracy: 0.6633 - loss: 0.6219\n",
      "Epoch 22: val_accuracy did not improve from 0.71500\n",
      "\u001b[1m63/63\u001b[0m \u001b[32m━━━━━━━━━━━━━━━━━━━━\u001b[0m\u001b[37m\u001b[0m \u001b[1m4s\u001b[0m 69ms/step - accuracy: 0.6605 - loss: 0.6244 - val_accuracy: 0.7125 - val_loss: 0.5621 - learning_rate: 2.5000e-04\n",
      "Epoch 23/100\n",
      "\u001b[1m63/63\u001b[0m \u001b[32m━━━━━━━━━━━━━━━━━━━━\u001b[0m\u001b[37m\u001b[0m \u001b[1m0s\u001b[0m 68ms/step - accuracy: 0.6736 - loss: 0.6074\n",
      "Epoch 23: val_accuracy improved from 0.71500 to 0.72500, saving model to improved_cnn_best.h5\n"
     ]
    },
    {
     "name": "stderr",
     "output_type": "stream",
     "text": [
      "WARNING:absl:You are saving your model as an HDF5 file via `model.save()` or `keras.saving.save_model(model)`. This file format is considered legacy. We recommend using instead the native Keras format, e.g. `model.save('my_model.keras')` or `keras.saving.save_model(model, 'my_model.keras')`. \n"
     ]
    },
    {
     "name": "stdout",
     "output_type": "stream",
     "text": [
      "\u001b[1m63/63\u001b[0m \u001b[32m━━━━━━━━━━━━━━━━━━━━\u001b[0m\u001b[37m\u001b[0m \u001b[1m5s\u001b[0m 75ms/step - accuracy: 0.6675 - loss: 0.6111 - val_accuracy: 0.7250 - val_loss: 0.5737 - learning_rate: 2.5000e-04\n",
      "Epoch 24/100\n",
      "\u001b[1m63/63\u001b[0m \u001b[32m━━━━━━━━━━━━━━━━━━━━\u001b[0m\u001b[37m\u001b[0m \u001b[1m0s\u001b[0m 63ms/step - accuracy: 0.6656 - loss: 0.6007\n",
      "Epoch 24: val_accuracy did not improve from 0.72500\n",
      "\u001b[1m63/63\u001b[0m \u001b[32m━━━━━━━━━━━━━━━━━━━━\u001b[0m\u001b[37m\u001b[0m \u001b[1m4s\u001b[0m 66ms/step - accuracy: 0.6745 - loss: 0.6014 - val_accuracy: 0.6825 - val_loss: 0.5851 - learning_rate: 2.5000e-04\n",
      "Epoch 25/100\n",
      "\u001b[1m63/63\u001b[0m \u001b[32m━━━━━━━━━━━━━━━━━━━━\u001b[0m\u001b[37m\u001b[0m \u001b[1m0s\u001b[0m 94ms/step - accuracy: 0.6686 - loss: 0.5974\n",
      "Epoch 25: val_accuracy did not improve from 0.72500\n",
      "\u001b[1m63/63\u001b[0m \u001b[32m━━━━━━━━━━━━━━━━━━━━\u001b[0m\u001b[37m\u001b[0m \u001b[1m6s\u001b[0m 97ms/step - accuracy: 0.6735 - loss: 0.6019 - val_accuracy: 0.6500 - val_loss: 0.6190 - learning_rate: 2.5000e-04\n",
      "Epoch 26/100\n",
      "\u001b[1m63/63\u001b[0m \u001b[32m━━━━━━━━━━━━━━━━━━━━\u001b[0m\u001b[37m\u001b[0m \u001b[1m0s\u001b[0m 65ms/step - accuracy: 0.6661 - loss: 0.5999\n",
      "Epoch 26: val_accuracy did not improve from 0.72500\n",
      "\u001b[1m63/63\u001b[0m \u001b[32m━━━━━━━━━━━━━━━━━━━━\u001b[0m\u001b[37m\u001b[0m \u001b[1m4s\u001b[0m 67ms/step - accuracy: 0.6725 - loss: 0.5991 - val_accuracy: 0.6700 - val_loss: 0.6109 - learning_rate: 2.5000e-04\n",
      "Epoch 27/100\n",
      "\u001b[1m63/63\u001b[0m \u001b[32m━━━━━━━━━━━━━━━━━━━━\u001b[0m\u001b[37m\u001b[0m \u001b[1m0s\u001b[0m 66ms/step - accuracy: 0.6812 - loss: 0.6032\n",
      "Epoch 27: ReduceLROnPlateau reducing learning rate to 0.0001250000059371814.\n",
      "\n",
      "Epoch 27: val_accuracy did not improve from 0.72500\n",
      "\u001b[1m63/63\u001b[0m \u001b[32m━━━━━━━━━━━━━━━━━━━━\u001b[0m\u001b[37m\u001b[0m \u001b[1m4s\u001b[0m 69ms/step - accuracy: 0.6765 - loss: 0.6092 - val_accuracy: 0.6775 - val_loss: 0.5905 - learning_rate: 2.5000e-04\n",
      "Epoch 28/100\n",
      "\u001b[1m63/63\u001b[0m \u001b[32m━━━━━━━━━━━━━━━━━━━━\u001b[0m\u001b[37m\u001b[0m \u001b[1m0s\u001b[0m 63ms/step - accuracy: 0.6984 - loss: 0.5840\n",
      "Epoch 28: val_accuracy did not improve from 0.72500\n",
      "\u001b[1m63/63\u001b[0m \u001b[32m━━━━━━━━━━━━━━━━━━━━\u001b[0m\u001b[37m\u001b[0m \u001b[1m4s\u001b[0m 66ms/step - accuracy: 0.6960 - loss: 0.5829 - val_accuracy: 0.6775 - val_loss: 0.5813 - learning_rate: 1.2500e-04\n",
      "Epoch 29/100\n",
      "\u001b[1m63/63\u001b[0m \u001b[32m━━━━━━━━━━━━━━━━━━━━\u001b[0m\u001b[37m\u001b[0m \u001b[1m0s\u001b[0m 63ms/step - accuracy: 0.7100 - loss: 0.5645\n",
      "Epoch 29: val_accuracy did not improve from 0.72500\n",
      "\u001b[1m63/63\u001b[0m \u001b[32m━━━━━━━━━━━━━━━━━━━━\u001b[0m\u001b[37m\u001b[0m \u001b[1m4s\u001b[0m 66ms/step - accuracy: 0.7075 - loss: 0.5676 - val_accuracy: 0.6775 - val_loss: 0.6555 - learning_rate: 1.2500e-04\n",
      "Epoch 30/100\n",
      "\u001b[1m62/63\u001b[0m \u001b[32m━━━━━━━━━━━━━━━━━━━\u001b[0m\u001b[37m━\u001b[0m \u001b[1m0s\u001b[0m 66ms/step - accuracy: 0.7028 - loss: 0.5763\n",
      "Epoch 30: val_accuracy did not improve from 0.72500\n",
      "\u001b[1m63/63\u001b[0m \u001b[32m━━━━━━━━━━━━━━━━━━━━\u001b[0m\u001b[37m\u001b[0m \u001b[1m4s\u001b[0m 68ms/step - accuracy: 0.7035 - loss: 0.5760 - val_accuracy: 0.6200 - val_loss: 0.8177 - learning_rate: 1.2500e-04\n",
      "Epoch 31/100\n",
      "\u001b[1m63/63\u001b[0m \u001b[32m━━━━━━━━━━━━━━━━━━━━\u001b[0m\u001b[37m\u001b[0m \u001b[1m0s\u001b[0m 65ms/step - accuracy: 0.6859 - loss: 0.5906\n",
      "Epoch 31: val_accuracy did not improve from 0.72500\n",
      "\u001b[1m63/63\u001b[0m \u001b[32m━━━━━━━━━━━━━━━━━━━━\u001b[0m\u001b[37m\u001b[0m \u001b[1m4s\u001b[0m 68ms/step - accuracy: 0.6920 - loss: 0.5898 - val_accuracy: 0.6600 - val_loss: 0.6047 - learning_rate: 1.2500e-04\n",
      "Epoch 32/100\n",
      "\u001b[1m63/63\u001b[0m \u001b[32m━━━━━━━━━━━━━━━━━━━━\u001b[0m\u001b[37m\u001b[0m \u001b[1m0s\u001b[0m 89ms/step - accuracy: 0.6901 - loss: 0.5830\n",
      "Epoch 32: ReduceLROnPlateau reducing learning rate to 6.25000029685907e-05.\n",
      "\n",
      "Epoch 32: val_accuracy did not improve from 0.72500\n",
      "\u001b[1m63/63\u001b[0m \u001b[32m━━━━━━━━━━━━━━━━━━━━\u001b[0m\u001b[37m\u001b[0m \u001b[1m6s\u001b[0m 92ms/step - accuracy: 0.6940 - loss: 0.5792 - val_accuracy: 0.6800 - val_loss: 0.6100 - learning_rate: 1.2500e-04\n",
      "Epoch 33/100\n",
      "\u001b[1m63/63\u001b[0m \u001b[32m━━━━━━━━━━━━━━━━━━━━\u001b[0m\u001b[37m\u001b[0m \u001b[1m0s\u001b[0m 66ms/step - accuracy: 0.6800 - loss: 0.6051\n",
      "Epoch 33: val_accuracy did not improve from 0.72500\n",
      "\u001b[1m63/63\u001b[0m \u001b[32m━━━━━━━━━━━━━━━━━━━━\u001b[0m\u001b[37m\u001b[0m \u001b[1m4s\u001b[0m 68ms/step - accuracy: 0.6990 - loss: 0.5783 - val_accuracy: 0.6650 - val_loss: 0.6309 - learning_rate: 6.2500e-05\n",
      "Epoch 33: early stopping\n",
      "Restoring model weights from the end of the best epoch: 23.\n",
      "\u001b[1m13/13\u001b[0m \u001b[32m━━━━━━━━━━━━━━━━━━━━\u001b[0m\u001b[37m\u001b[0m \u001b[1m2s\u001b[0m 89ms/step\n",
      "Final Test Accuracy: 0.7250\n"
     ]
    },
    {
     "data": {
      "image/png": "[encoded data removed]",
      "text/plain": [
       "<Figure size 800x600 with 2 Axes>"
      ]
     },
     "metadata": {},
     "output_type": "display_data"
    },
    {
     "name": "stdout",
     "output_type": "stream",
     "text": [
      "\n",
      "Classification Report:\n",
      "              precision    recall  f1-score   support\n",
      "\n",
      "         Dog       0.80      0.59      0.68       200\n",
      "         Cat       0.68      0.85      0.76       200\n",
      "\n",
      "    accuracy                           0.72       400\n",
      "   macro avg       0.74      0.72      0.72       400\n",
      "weighted avg       0.74      0.72      0.72       400\n",
      "\n",
      "\n",
      "4. Training transfer learning model...\n",
      "Transfer model parameters: 15,110,977\n",
      "Epoch 1/100\n"
     ]
    },
    {
     "name": "stderr",
     "output_type": "stream",
     "text": [
      "/home/anubhav_jha/tf-gpu/lib/python3.12/site-packages/keras/src/trainers/data_adapters/py_dataset_adapter.py:121: UserWarning: Your `PyDataset` class should call `super().__init__(**kwargs)` in its constructor. `**kwargs` can include `workers`, `use_multiprocessing`, `max_queue_size`. Do not pass these arguments to `fit()`, as they will be ignored.\n",
      "  self._warn_if_super_not_called()\n",
      "2025-08-17 06:47:34.157165: I external/local_xla/xla/service/gpu/autotuning/dot_search_space.cc:208] All configs were filtered out because none of them sufficiently match the hints. Maybe the hints set does not contain a good representative set of valid configs? Working around this by using the full hints set instead.\n",
      "2025-08-17 06:47:34.849310: I external/local_xla/xla/stream_executor/cuda/subprocess_compilation.cc:346] ptxas warning : Registers are spilled to local memory in function 'gemm_fusion_dot_2304', 16 bytes spill stores, 16 bytes spill loads\n",
      "\n",
      "2025-08-17 06:47:35.106929: I external/local_xla/xla/stream_executor/cuda/subprocess_compilation.cc:346] ptxas warning : Registers are spilled to local memory in function 'gemm_fusion_dot_2304', 520 bytes spill stores, 520 bytes spill loads\n",
      "\n"
     ]
    },
    {
     "name": "stdout",
     "output_type": "stream",
     "text": [
      "\u001b[1m63/63\u001b[0m \u001b[32m━━━━━━━━━━━━━━━━━━━━\u001b[0m\u001b[37m\u001b[0m \u001b[1m0s\u001b[0m 135ms/step - accuracy: 0.6097 - loss: 0.8046\n",
      "Epoch 1: val_accuracy improved from None to 0.64000, saving model to transfer_learning_best.h5\n"
     ]
    },
    {
     "name": "stderr",
     "output_type": "stream",
     "text": [
      "WARNING:absl:You are saving your model as an HDF5 file via `model.save()` or `keras.saving.save_model(model)`. This file format is considered legacy. We recommend using instead the native Keras format, e.g. `model.save('my_model.keras')` or `keras.saving.save_model(model, 'my_model.keras')`. \n"
     ]
    },
    {
     "name": "stdout",
     "output_type": "stream",
     "text": [
      "\u001b[1m63/63\u001b[0m \u001b[32m━━━━━━━━━━━━━━━━━━━━\u001b[0m\u001b[37m\u001b[0m \u001b[1m20s\u001b[0m 188ms/step - accuracy: 0.6850 - loss: 0.6608 - val_accuracy: 0.6400 - val_loss: 2.2455 - learning_rate: 0.0010\n",
      "Epoch 2/100\n",
      "\u001b[1m63/63\u001b[0m \u001b[32m━━━━━━━━━━━━━━━━━━━━\u001b[0m\u001b[37m\u001b[0m \u001b[1m0s\u001b[0m 88ms/step - accuracy: 0.7949 - loss: 0.4413\n",
      "Epoch 2: val_accuracy improved from 0.64000 to 0.81250, saving model to transfer_learning_best.h5\n"
     ]
    },
    {
     "name": "stderr",
     "output_type": "stream",
     "text": [
      "WARNING:absl:You are saving your model as an HDF5 file via `model.save()` or `keras.saving.save_model(model)`. This file format is considered legacy. We recommend using instead the native Keras format, e.g. `model.save('my_model.keras')` or `keras.saving.save_model(model, 'my_model.keras')`. \n"
     ]
    },
    {
     "name": "stdout",
     "output_type": "stream",
     "text": [
      "\u001b[1m63/63\u001b[0m \u001b[32m━━━━━━━━━━━━━━━━━━━━\u001b[0m\u001b[37m\u001b[0m \u001b[1m7s\u001b[0m 109ms/step - accuracy: 0.8115 - loss: 0.4310 - val_accuracy: 0.8125 - val_loss: 0.6739 - learning_rate: 0.0010\n",
      "Epoch 3/100\n",
      "\u001b[1m63/63\u001b[0m \u001b[32m━━━━━━━━━━━━━━━━━━━━\u001b[0m\u001b[37m\u001b[0m \u001b[1m0s\u001b[0m 65ms/step - accuracy: 0.8304 - loss: 0.3824\n",
      "Epoch 3: val_accuracy did not improve from 0.81250\n",
      "\u001b[1m63/63\u001b[0m \u001b[32m━━━━━━━━━━━━━━━━━━━━\u001b[0m\u001b[37m\u001b[0m \u001b[1m4s\u001b[0m 70ms/step - accuracy: 0.8310 - loss: 0.3883 - val_accuracy: 0.5100 - val_loss: 2.0651 - learning_rate: 0.0010\n",
      "Epoch 4/100\n",
      "\u001b[1m63/63\u001b[0m \u001b[32m━━━━━━━━━━━━━━━━━━━━\u001b[0m\u001b[37m\u001b[0m \u001b[1m0s\u001b[0m 65ms/step - accuracy: 0.8655 - loss: 0.3551\n",
      "Epoch 4: val_accuracy did not improve from 0.81250\n",
      "\u001b[1m63/63\u001b[0m \u001b[32m━━━━━━━━━━━━━━━━━━━━\u001b[0m\u001b[37m\u001b[0m \u001b[1m4s\u001b[0m 70ms/step - accuracy: 0.8595 - loss: 0.3600 - val_accuracy: 0.5225 - val_loss: 2.3634 - learning_rate: 0.0010\n",
      "Epoch 5/100\n",
      "\u001b[1m63/63\u001b[0m \u001b[32m━━━━━━━━━━━━━━━━━━━━\u001b[0m\u001b[37m\u001b[0m \u001b[1m0s\u001b[0m 63ms/step - accuracy: 0.8707 - loss: 0.3191\n",
      "Epoch 5: val_accuracy did not improve from 0.81250\n",
      "\u001b[1m63/63\u001b[0m \u001b[32m━━━━━━━━━━━━━━━━━━━━\u001b[0m\u001b[37m\u001b[0m \u001b[1m4s\u001b[0m 69ms/step - accuracy: 0.8665 - loss: 0.3322 - val_accuracy: 0.5725 - val_loss: 1.7038 - learning_rate: 0.0010\n",
      "Epoch 6/100\n",
      "\u001b[1m63/63\u001b[0m \u001b[32m━━━━━━━━━━━━━━━━━━━━\u001b[0m\u001b[37m\u001b[0m \u001b[1m0s\u001b[0m 63ms/step - accuracy: 0.8726 - loss: 0.3056\n",
      "Epoch 6: val_accuracy did not improve from 0.81250\n",
      "\u001b[1m63/63\u001b[0m \u001b[32m━━━━━━━━━━━━━━━━━━━━\u001b[0m\u001b[37m\u001b[0m \u001b[1m4s\u001b[0m 68ms/step - accuracy: 0.8745 - loss: 0.3065 - val_accuracy: 0.7950 - val_loss: 0.6934 - learning_rate: 0.0010\n",
      "Epoch 7/100\n",
      "\u001b[1m63/63\u001b[0m \u001b[32m━━━━━━━━━━━━━━━━━━━━\u001b[0m\u001b[37m\u001b[0m \u001b[1m0s\u001b[0m 65ms/step - accuracy: 0.8799 - loss: 0.2915\n",
      "Epoch 7: val_accuracy improved from 0.81250 to 0.82500, saving model to transfer_learning_best.h5\n"
     ]
    },
    {
     "name": "stderr",
     "output_type": "stream",
     "text": [
      "WARNING:absl:You are saving your model as an HDF5 file via `model.save()` or `keras.saving.save_model(model)`. This file format is considered legacy. We recommend using instead the native Keras format, e.g. `model.save('my_model.keras')` or `keras.saving.save_model(model, 'my_model.keras')`. \n"
     ]
    },
    {
     "name": "stdout",
     "output_type": "stream",
     "text": [
      "\u001b[1m63/63\u001b[0m \u001b[32m━━━━━━━━━━━━━━━━━━━━\u001b[0m\u001b[37m\u001b[0m \u001b[1m5s\u001b[0m 86ms/step - accuracy: 0.8800 - loss: 0.2962 - val_accuracy: 0.8250 - val_loss: 0.3973 - learning_rate: 0.0010\n",
      "Epoch 8/100\n",
      "\u001b[1m63/63\u001b[0m \u001b[32m━━━━━━━━━━━━━━━━━━━━\u001b[0m\u001b[37m\u001b[0m \u001b[1m0s\u001b[0m 66ms/step - accuracy: 0.8894 - loss: 0.2709\n",
      "Epoch 8: val_accuracy improved from 0.82500 to 0.88500, saving model to transfer_learning_best.h5\n"
     ]
    },
    {
     "name": "stderr",
     "output_type": "stream",
     "text": [
      "WARNING:absl:You are saving your model as an HDF5 file via `model.save()` or `keras.saving.save_model(model)`. This file format is considered legacy. We recommend using instead the native Keras format, e.g. `model.save('my_model.keras')` or `keras.saving.save_model(model, 'my_model.keras')`. \n"
     ]
    },
    {
     "name": "stdout",
     "output_type": "stream",
     "text": [
      "\u001b[1m63/63\u001b[0m \u001b[32m━━━━━━━━━━━━━━━━━━━━\u001b[0m\u001b[37m\u001b[0m \u001b[1m5s\u001b[0m 86ms/step - accuracy: 0.8890 - loss: 0.2747 - val_accuracy: 0.8850 - val_loss: 0.3774 - learning_rate: 0.0010\n",
      "Epoch 9/100\n",
      "\u001b[1m63/63\u001b[0m \u001b[32m━━━━━━━━━━━━━━━━━━━━\u001b[0m\u001b[37m\u001b[0m \u001b[1m0s\u001b[0m 89ms/step - accuracy: 0.8835 - loss: 0.2848\n",
      "Epoch 9: val_accuracy improved from 0.88500 to 0.91500, saving model to transfer_learning_best.h5\n"
     ]
    },
    {
     "name": "stderr",
     "output_type": "stream",
     "text": [
      "WARNING:absl:You are saving your model as an HDF5 file via `model.save()` or `keras.saving.save_model(model)`. This file format is considered legacy. We recommend using instead the native Keras format, e.g. `model.save('my_model.keras')` or `keras.saving.save_model(model, 'my_model.keras')`. \n"
     ]
    },
    {
     "name": "stdout",
     "output_type": "stream",
     "text": [
      "\u001b[1m63/63\u001b[0m \u001b[32m━━━━━━━━━━━━━━━━━━━━\u001b[0m\u001b[37m\u001b[0m \u001b[1m7s\u001b[0m 110ms/step - accuracy: 0.8860 - loss: 0.2781 - val_accuracy: 0.9150 - val_loss: 0.2519 - learning_rate: 0.0010\n",
      "Epoch 10/100\n",
      "\u001b[1m63/63\u001b[0m \u001b[32m━━━━━━━━━━━━━━━━━━━━\u001b[0m\u001b[37m\u001b[0m \u001b[1m0s\u001b[0m 65ms/step - accuracy: 0.8814 - loss: 0.2939\n",
      "Epoch 10: val_accuracy did not improve from 0.91500\n",
      "\u001b[1m63/63\u001b[0m \u001b[32m━━━━━━━━━━━━━━━━━━━━\u001b[0m\u001b[37m\u001b[0m \u001b[1m5s\u001b[0m 71ms/step - accuracy: 0.8810 - loss: 0.2900 - val_accuracy: 0.8550 - val_loss: 0.3326 - learning_rate: 0.0010\n",
      "Epoch 11/100\n",
      "\u001b[1m63/63\u001b[0m \u001b[32m━━━━━━━━━━━━━━━━━━━━\u001b[0m\u001b[37m\u001b[0m \u001b[1m0s\u001b[0m 64ms/step - accuracy: 0.8855 - loss: 0.2718\n",
      "Epoch 11: val_accuracy improved from 0.91500 to 0.92750, saving model to transfer_learning_best.h5\n"
     ]
    },
    {
     "name": "stderr",
     "output_type": "stream",
     "text": [
      "WARNING:absl:You are saving your model as an HDF5 file via `model.save()` or `keras.saving.save_model(model)`. This file format is considered legacy. We recommend using instead the native Keras format, e.g. `model.save('my_model.keras')` or `keras.saving.save_model(model, 'my_model.keras')`. \n"
     ]
    },
    {
     "name": "stdout",
     "output_type": "stream",
     "text": [
      "\u001b[1m63/63\u001b[0m \u001b[32m━━━━━━━━━━━━━━━━━━━━\u001b[0m\u001b[37m\u001b[0m \u001b[1m5s\u001b[0m 84ms/step - accuracy: 0.8845 - loss: 0.2748 - val_accuracy: 0.9275 - val_loss: 0.1778 - learning_rate: 0.0010\n",
      "Epoch 12/100\n",
      "\u001b[1m63/63\u001b[0m \u001b[32m━━━━━━━━━━━━━━━━━━━━\u001b[0m\u001b[37m\u001b[0m \u001b[1m0s\u001b[0m 68ms/step - accuracy: 0.8842 - loss: 0.2561\n",
      "Epoch 12: val_accuracy improved from 0.92750 to 0.93000, saving model to transfer_learning_best.h5\n"
     ]
    },
    {
     "name": "stderr",
     "output_type": "stream",
     "text": [
      "WARNING:absl:You are saving your model as an HDF5 file via `model.save()` or `keras.saving.save_model(model)`. This file format is considered legacy. We recommend using instead the native Keras format, e.g. `model.save('my_model.keras')` or `keras.saving.save_model(model, 'my_model.keras')`. \n"
     ]
    },
    {
     "name": "stdout",
     "output_type": "stream",
     "text": [
      "\u001b[1m63/63\u001b[0m \u001b[32m━━━━━━━━━━━━━━━━━━━━\u001b[0m\u001b[37m\u001b[0m \u001b[1m6s\u001b[0m 87ms/step - accuracy: 0.8925 - loss: 0.2385 - val_accuracy: 0.9300 - val_loss: 0.2412 - learning_rate: 0.0010\n",
      "Epoch 13/100\n",
      "\u001b[1m63/63\u001b[0m \u001b[32m━━━━━━━━━━━━━━━━━━━━\u001b[0m\u001b[37m\u001b[0m \u001b[1m0s\u001b[0m 65ms/step - accuracy: 0.9052 - loss: 0.2284\n",
      "Epoch 13: val_accuracy did not improve from 0.93000\n",
      "\u001b[1m63/63\u001b[0m \u001b[32m━━━━━━━━━━━━━━━━━━━━\u001b[0m\u001b[37m\u001b[0m \u001b[1m5s\u001b[0m 71ms/step - accuracy: 0.8990 - loss: 0.2415 - val_accuracy: 0.7200 - val_loss: 1.3950 - learning_rate: 0.0010\n",
      "Epoch 14/100\n",
      "\u001b[1m63/63\u001b[0m \u001b[32m━━━━━━━━━━━━━━━━━━━━\u001b[0m\u001b[37m\u001b[0m \u001b[1m0s\u001b[0m 66ms/step - accuracy: 0.9069 - loss: 0.2256\n",
      "Epoch 14: val_accuracy did not improve from 0.93000\n",
      "\u001b[1m63/63\u001b[0m \u001b[32m━━━━━━━━━━━━━━━━━━━━\u001b[0m\u001b[37m\u001b[0m \u001b[1m5s\u001b[0m 71ms/step - accuracy: 0.9025 - loss: 0.2435 - val_accuracy: 0.9150 - val_loss: 0.1956 - learning_rate: 0.0010\n",
      "Epoch 15/100\n",
      "\u001b[1m63/63\u001b[0m \u001b[32m━━━━━━━━━━━━━━━━━━━━\u001b[0m\u001b[37m\u001b[0m \u001b[1m0s\u001b[0m 88ms/step - accuracy: 0.9257 - loss: 0.1873\n",
      "Epoch 15: val_accuracy did not improve from 0.93000\n",
      "\u001b[1m63/63\u001b[0m \u001b[32m━━━━━━━━━━━━━━━━━━━━\u001b[0m\u001b[37m\u001b[0m \u001b[1m6s\u001b[0m 93ms/step - accuracy: 0.9115 - loss: 0.2160 - val_accuracy: 0.8500 - val_loss: 0.4086 - learning_rate: 0.0010\n",
      "Epoch 16/100\n",
      "\u001b[1m63/63\u001b[0m \u001b[32m━━━━━━━━━━━━━━━━━━━━\u001b[0m\u001b[37m\u001b[0m \u001b[1m0s\u001b[0m 66ms/step - accuracy: 0.8960 - loss: 0.2478\n",
      "Epoch 16: ReduceLROnPlateau reducing learning rate to 0.0005000000237487257.\n",
      "\n",
      "Epoch 16: val_accuracy did not improve from 0.93000\n",
      "\u001b[1m63/63\u001b[0m \u001b[32m━━━━━━━━━━━━━━━━━━━━\u001b[0m\u001b[37m\u001b[0m \u001b[1m5s\u001b[0m 72ms/step - accuracy: 0.9020 - loss: 0.2324 - val_accuracy: 0.9150 - val_loss: 0.1933 - learning_rate: 0.0010\n",
      "Epoch 17/100\n",
      "\u001b[1m63/63\u001b[0m \u001b[32m━━━━━━━━━━━━━━━━━━━━\u001b[0m\u001b[37m\u001b[0m \u001b[1m0s\u001b[0m 64ms/step - accuracy: 0.9092 - loss: 0.2250\n",
      "Epoch 17: val_accuracy did not improve from 0.93000\n",
      "\u001b[1m63/63\u001b[0m \u001b[32m━━━━━━━━━━━━━━━━━━━━\u001b[0m\u001b[37m\u001b[0m \u001b[1m4s\u001b[0m 70ms/step - accuracy: 0.9095 - loss: 0.2099 - val_accuracy: 0.8425 - val_loss: 0.3989 - learning_rate: 5.0000e-04\n",
      "Epoch 18/100\n",
      "\u001b[1m63/63\u001b[0m \u001b[32m━━━━━━━━━━━━━━━━━━━━\u001b[0m\u001b[37m\u001b[0m \u001b[1m0s\u001b[0m 64ms/step - accuracy: 0.9228 - loss: 0.1835\n",
      "Epoch 18: val_accuracy did not improve from 0.93000\n",
      "\u001b[1m63/63\u001b[0m \u001b[32m━━━━━━━━━━━━━━━━━━━━\u001b[0m\u001b[37m\u001b[0m \u001b[1m4s\u001b[0m 70ms/step - accuracy: 0.9215 - loss: 0.1903 - val_accuracy: 0.9200 - val_loss: 0.1942 - learning_rate: 5.0000e-04\n",
      "Epoch 19/100\n",
      "\u001b[1m63/63\u001b[0m \u001b[32m━━━━━━━━━━━━━━━━━━━━\u001b[0m\u001b[37m\u001b[0m \u001b[1m0s\u001b[0m 64ms/step - accuracy: 0.9335 - loss: 0.1595\n",
      "Epoch 19: val_accuracy did not improve from 0.93000\n",
      "\u001b[1m63/63\u001b[0m \u001b[32m━━━━━━━━━━━━━━━━━━━━\u001b[0m\u001b[37m\u001b[0m \u001b[1m4s\u001b[0m 69ms/step - accuracy: 0.9300 - loss: 0.1684 - val_accuracy: 0.9175 - val_loss: 0.1945 - learning_rate: 5.0000e-04\n",
      "Epoch 20/100\n",
      "\u001b[1m63/63\u001b[0m \u001b[32m━━━━━━━━━━━━━━━━━━━━\u001b[0m\u001b[37m\u001b[0m \u001b[1m0s\u001b[0m 64ms/step - accuracy: 0.9301 - loss: 0.1581\n",
      "Epoch 20: val_accuracy did not improve from 0.93000\n",
      "\u001b[1m63/63\u001b[0m \u001b[32m━━━━━━━━━━━━━━━━━━━━\u001b[0m\u001b[37m\u001b[0m \u001b[1m4s\u001b[0m 70ms/step - accuracy: 0.9315 - loss: 0.1701 - val_accuracy: 0.8750 - val_loss: 0.2824 - learning_rate: 5.0000e-04\n",
      "Epoch 21/100\n",
      "\u001b[1m63/63\u001b[0m \u001b[32m━━━━━━━━━━━━━━━━━━━━\u001b[0m\u001b[37m\u001b[0m \u001b[1m0s\u001b[0m 64ms/step - accuracy: 0.9326 - loss: 0.1597\n",
      "Epoch 21: ReduceLROnPlateau reducing learning rate to 0.0002500000118743628.\n",
      "\n",
      "Epoch 21: val_accuracy did not improve from 0.93000\n",
      "\u001b[1m63/63\u001b[0m \u001b[32m━━━━━━━━━━━━━━━━━━━━\u001b[0m\u001b[37m\u001b[0m \u001b[1m4s\u001b[0m 70ms/step - accuracy: 0.9340 - loss: 0.1721 - val_accuracy: 0.9250 - val_loss: 0.1943 - learning_rate: 5.0000e-04\n",
      "Epoch 22/100\n",
      "\u001b[1m63/63\u001b[0m \u001b[32m━━━━━━━━━━━━━━━━━━━━\u001b[0m\u001b[37m\u001b[0m \u001b[1m0s\u001b[0m 88ms/step - accuracy: 0.9148 - loss: 0.1937\n",
      "Epoch 22: val_accuracy did not improve from 0.93000\n",
      "\u001b[1m63/63\u001b[0m \u001b[32m━━━━━━━━━━━━━━━━━━━━\u001b[0m\u001b[37m\u001b[0m \u001b[1m6s\u001b[0m 94ms/step - accuracy: 0.9275 - loss: 0.1670 - val_accuracy: 0.8850 - val_loss: 0.3709 - learning_rate: 2.5000e-04\n",
      "Epoch 22: early stopping\n",
      "Restoring model weights from the end of the best epoch: 12.\n",
      "\u001b[1m13/13\u001b[0m \u001b[32m━━━━━━━━━━━━━━━━━━━━\u001b[0m\u001b[37m\u001b[0m \u001b[1m2s\u001b[0m 89ms/step\n",
      "Final Test Accuracy: 0.9300\n"
     ]
    },
    {
     "data": {
      "image/png": "[encoded data removed]",
      "text/plain": [
       "<Figure size 800x600 with 2 Axes>"
      ]
     },
     "metadata": {},
     "output_type": "display_data"
    },
    {
     "name": "stdout",
     "output_type": "stream",
     "text": [
      "\n",
      "Classification Report:\n",
      "              precision    recall  f1-score   support\n",
      "\n",
      "         Dog       0.91      0.96      0.93       200\n",
      "         Cat       0.96      0.90      0.93       200\n",
      "\n",
      "    accuracy                           0.93       400\n",
      "   macro avg       0.93      0.93      0.93       400\n",
      "weighted avg       0.93      0.93      0.93       400\n",
      "\n",
      "\n",
      "5. Creating ensemble prediction...\n",
      "\u001b[1m13/13\u001b[0m \u001b[32m━━━━━━━━━━━━━━━━━━━━\u001b[0m\u001b[37m\u001b[0m \u001b[1m0s\u001b[0m 6ms/step\n",
      "\u001b[1m13/13\u001b[0m \u001b[32m━━━━━━━━━━━━━━━━━━━━\u001b[0m\u001b[37m\u001b[0m \u001b[1m0s\u001b[0m 22ms/step\n",
      "Ensemble Accuracy: 0.9375\n",
      "\n",
      "==================================================\n",
      "FINAL RESULTS COMPARISON:\n",
      "==================================================\n",
      "Improved CNN Accuracy: 0.7250\n",
      "Transfer Learning Accuracy: 0.9300\n",
      "Ensemble Accuracy: 0.9375\n",
      "==================================================\n"
     ]
    }
   ],
   "source": [
    "if __name__ == \"__main__\":\n",
    "    improved_model, transfer_model, final_accuracy = main()"
   ]
  },
  {
   "cell_type": "code",
   "execution_count": 15,
   "id": "b86677b9",
   "metadata": {},
   "outputs": [
    {
     "name": "stdout",
     "output_type": "stream",
     "text": [
      "Training data shape: (2000, 100, 100, 3)\n",
      "Test data shape: (400, 100, 100, 3)\n",
      "Training labels distribution: [1000 1000]\n"
     ]
    }
   ],
   "source": [
    "# Run this BEFORE running the ModelTester\n",
    "X_train, X_test, Y_train, Y_test = load_and_preprocess_data()\n",
    "\n"
   ]
  },
  {
   "cell_type": "code",
   "execution_count": null,
   "id": "9b62437d",
   "metadata": {},
   "outputs": [],
   "source": [
    "import numpy as np\n",
    "import matplotlib.pyplot as plt\n",
    "import random\n",
    "from typing import Tuple, Optional, Any\n",
    "import logging\n",
    "\n",
    "# Configure logging\n",
    "logging.basicConfig(level=logging.INFO, format='%(asctime)s - %(levelname)s - %(message)s')\n",
    "logger = logging.getLogger(__name__)\n",
    "\n",
    "class ModelTester:\n",
    "    \"\"\"\n",
    "    A professional model testing suite for binary classification tasks.\n",
    "    Provides clean visualization and comprehensive testing capabilities.\n",
    "    \"\"\"\n",
    "    \n",
    "    def __init__(self, model=None, X_test=None, Y_test=None):\n",
    "        \"\"\"\n",
    "        Initialize the ModelTester with model and test data.\n",
    "        \n",
    "        Args:\n",
    "            model: Trained model with predict method\n",
    "            X_test: Test images array\n",
    "            Y_test: Test labels array\n",
    "        \"\"\"\n",
    "        self.model = model\n",
    "        self.X_test = X_test\n",
    "        self.Y_test = Y_test\n",
    "        self.class_names = [\"Dog\", \"Cat\"]  # 0: Dog, 1: Cat\n",
    "        \n",
    "    def _validate_inputs(self) -> bool:\n",
    "        \"\"\"Validate that model and test data are available.\"\"\"\n",
    "        if self.model is None:\n",
    "            print(\"Model not provided. Please load or train a model first.\")\n",
    "            return False\n",
    "            \n",
    "        if self.X_test is None or self.Y_test is None:\n",
    "            print(\"Test data not provided. Please load X_test and Y_test.\")\n",
    "            return False\n",
    "            \n",
    "        if len(self.X_test) == 0:\n",
    "            print(\"Test dataset is empty.\")\n",
    "            return False\n",
    "            \n",
    "        return True\n",
    "    \n",
    "    def _preprocess_image(self, image: np.ndarray) -> np.ndarray:\n",
    "        \"\"\"\n",
    "        Preprocess image for display.\n",
    "        \n",
    "        Args:\n",
    "            image: Raw image array\n",
    "            \n",
    "        Returns:\n",
    "            Preprocessed image suitable for display\n",
    "        \"\"\"\n",
    "        processed_image = image.copy()\n",
    "        \n",
    "        # Normalize to [0, 1] range if needed\n",
    "        if processed_image.min() < 0 or processed_image.max() > 1:\n",
    "            processed_image = (processed_image - processed_image.min()) / \\\n",
    "                            (processed_image.max() - processed_image.min())\n",
    "        \n",
    "        return processed_image\n",
    "    \n",
    "    def _get_prediction_info(self, prediction_score: float, actual_label: float) -> dict:\n",
    "        \"\"\"\n",
    "        Process prediction and actual labels to get class information.\n",
    "        \n",
    "        Args:\n",
    "            prediction_score: Raw prediction score from model\n",
    "            actual_label: Actual label\n",
    "            \n",
    "        Returns:\n",
    "            Dictionary containing prediction information\n",
    "        \"\"\"\n",
    "        # Determine predicted class\n",
    "        predicted_class_idx = 1 if prediction_score > 0.5 else 0\n",
    "        predicted_class = self.class_names[predicted_class_idx]\n",
    "        confidence = prediction_score if prediction_score > 0.5 else (1 - prediction_score)\n",
    "        \n",
    "        # Determine actual class\n",
    "        actual_class_idx = 1 if actual_label > 0.5 else 0\n",
    "        actual_class = self.class_names[actual_class_idx]\n",
    "        \n",
    "        # Check if prediction is correct\n",
    "        is_correct = predicted_class == actual_class\n",
    "        \n",
    "        return {\n",
    "            'predicted_class': predicted_class,\n",
    "            'actual_class': actual_class,\n",
    "            'confidence': confidence,\n",
    "            'is_correct': is_correct,\n",
    "            'raw_score': prediction_score,\n",
    "            'predicted_class_idx': predicted_class_idx,\n",
    "            'actual_class_idx': actual_class_idx\n",
    "        }\n",
    "    \n",
    "    def test_single_prediction(self, idx: Optional[int] = None, show_plot: bool = True) -> dict:\n",
    "        \"\"\"\n",
    "        Test model prediction on a single random image.\n",
    "        \n",
    "        Args:\n",
    "            idx: Specific index to test (if None, random index is selected)\n",
    "            show_plot: Whether to display the visualization\n",
    "            \n",
    "        Returns:\n",
    "            Dictionary containing test results\n",
    "        \"\"\"\n",
    "        if not self._validate_inputs():\n",
    "            return None\n",
    "            \n",
    "        # Select random index if not provided\n",
    "        if idx is None:\n",
    "            idx = random.randint(0, len(self.X_test) - 1)\n",
    "        elif idx >= len(self.X_test):\n",
    "            print(f\"Index {idx} is out of range. Dataset has {len(self.X_test)} samples.\")\n",
    "            return None\n",
    "        \n",
    "        # Get image and preprocess\n",
    "        test_image = self._preprocess_image(self.X_test[idx])\n",
    "        \n",
    "        # Make prediction\n",
    "        try:\n",
    "            prediction_score = self.model.predict(self.X_test[idx:idx+1], verbose=0)[0][0]\n",
    "            actual_label = self.Y_test[idx][0] if len(self.Y_test[idx].shape) > 0 else self.Y_test[idx]\n",
    "        except Exception as e:\n",
    "            print(f\"Error during prediction: {e}\")\n",
    "            return None\n",
    "        \n",
    "        # Process prediction information\n",
    "        pred_info = self._get_prediction_info(prediction_score, actual_label)\n",
    "        \n",
    "        # Display results\n",
    "        if show_plot:\n",
    "            self._display_prediction(test_image, pred_info, idx)\n",
    "        \n",
    "        # Don't log to console, just return the dictionary\n",
    "        result = {\n",
    "            'sample_index': idx,\n",
    "            'is_correct': pred_info['is_correct'],\n",
    "            'predicted_class': pred_info['predicted_class'],\n",
    "            'actual_class': pred_info['actual_class'],\n",
    "            'confidence': pred_info['confidence'],\n",
    "            'raw_score': pred_info['raw_score']\n",
    "        }\n",
    "        \n",
    "        # Print the dictionary in a clean format\n",
    "        print(result)\n",
    "        \n",
    "        return result\n",
    "    \n",
    "    def _display_prediction(self, image: np.ndarray, pred_info: dict, idx: int):\n",
    "        \"\"\"\n",
    "        Display only the image without results panel.\n",
    "        \n",
    "        Args:\n",
    "            image: Preprocessed image\n",
    "            pred_info: Prediction information dictionary\n",
    "            idx: Sample index\n",
    "        \"\"\"\n",
    "        plt.figure(figsize=(6, 6))\n",
    "        plt.imshow(image, cmap='gray' if len(image.shape) == 2 else None)\n",
    "        plt.axis('off')\n",
    "        plt.title(f\"Test Sample #{idx}\", fontsize=14, fontweight='bold')\n",
    "        plt.tight_layout()\n",
    "        plt.show()\n",
    "    \n",
    "    def batch_test(self, num_tests: int = 5, show_individual: bool = False) -> dict:\n",
    "        \"\"\"\n",
    "        Run multiple random tests and provide summary statistics.\n",
    "        \n",
    "        Args:\n",
    "            num_tests: Number of tests to run\n",
    "            show_individual: Whether to show individual test visualizations\n",
    "            \n",
    "        Returns:\n",
    "            Dictionary containing batch test results\n",
    "        \"\"\"\n",
    "        if not self._validate_inputs():\n",
    "            return None\n",
    "            \n",
    "        logger.info(f\"Running batch test on {num_tests} random samples...\")\n",
    "        \n",
    "        results = []\n",
    "        correct_count = 0\n",
    "        \n",
    "        for i in range(num_tests):\n",
    "            logger.info(f\"Test {i+1}/{num_tests}\")\n",
    "            result = self.test_single_prediction(show_plot=show_individual)\n",
    "            \n",
    "            if result:\n",
    "                results.append(result)\n",
    "                if result['is_correct']:\n",
    "                    correct_count += 1\n",
    "        \n",
    "        # Calculate statistics\n",
    "        accuracy = correct_count / len(results) if results else 0\n",
    "        \n",
    "        # Display summary\n",
    "        self._display_batch_summary(results, accuracy)\n",
    "        \n",
    "        return {\n",
    "            'total_tests': len(results),\n",
    "            'correct_predictions': correct_count,\n",
    "            'accuracy': accuracy,\n",
    "            'individual_results': results\n",
    "        }\n",
    "    \n",
    "    def _display_batch_summary(self, results: list, accuracy: float):\n",
    "        \"\"\"Display batch test summary.\"\"\"\n",
    "        print(\"\\n\" + \"=\"*60)\n",
    "        print(\"BATCH TEST SUMMARY\")\n",
    "        print(\"=\"*60)\n",
    "        print(f\"Total Tests:        {len(results)}\")\n",
    "        print(f\"Correct Predictions: {sum(r['is_correct'] for r in results)}\")\n",
    "        print(f\"Accuracy:           {accuracy:.1%}\")\n",
    "        print(\"=\"*60)\n",
    "        \n",
    "        # Show breakdown by class if available\n",
    "        if results:\n",
    "            actual_classes = [r['actual_class'] for r in results]\n",
    "            for class_name in self.class_names:\n",
    "                class_results = [r for r in results if r['actual_class'] == class_name]\n",
    "                if class_results:\n",
    "                    class_accuracy = sum(r['is_correct'] for r in class_results) / len(class_results)\n",
    "                    print(f\"{class_name} Accuracy:     {class_accuracy:.1%} ({sum(r['is_correct'] for r in class_results)}/{len(class_results)})\")\n",
    "        print(\"=\"*60)\n",
    "\n",
    "    @staticmethod\n",
    "    def auto_detect_and_test(globals_dict: dict, num_tests: int = 1):\n",
    "        \"\"\"\n",
    "        Automatically detect available models and test data, then run tests.\n",
    "        \n",
    "        Args:\n",
    "            globals_dict: Global variables dictionary (pass globals())\n",
    "            num_tests: Number of tests to run\n",
    "        \"\"\"\n",
    "        # Try to detect model\n",
    "        model_candidates = ['transfer_model', 'improved_model', 'best_model', 'model']\n",
    "        model = None\n",
    "        model_name = None\n",
    "        \n",
    "        for name in model_candidates:\n",
    "            if name in globals_dict and globals_dict[name] is not None:\n",
    "                model = globals_dict[name]\n",
    "                model_name = name\n",
    "                break\n",
    "        \n",
    "        # Try to detect test data\n",
    "        X_test = globals_dict.get('X_test')\n",
    "        Y_test = globals_dict.get('Y_test')\n",
    "        \n",
    "        # If test data not found, try to load it using available function\n",
    "        if X_test is None or Y_test is None:\n",
    "            if 'load_and_preprocess_data' in globals_dict:\n",
    "                print(\"Loading data...\")\n",
    "                try:\n",
    "                    X_train, X_test, Y_train, Y_test = globals_dict['load_and_preprocess_data']()\n",
    "                    print(\"Data loaded successfully!\")\n",
    "                    # Store in global scope for future use\n",
    "                    globals_dict['X_train'] = X_train\n",
    "                    globals_dict['X_test'] = X_test\n",
    "                    globals_dict['Y_train'] = Y_train\n",
    "                    globals_dict['Y_test'] = Y_test\n",
    "                except Exception as e:\n",
    "                    print(f\"Failed to load data: {e}\")\n",
    "                    return None\n",
    "            else:\n",
    "                print(\"Test data (X_test, Y_test) not found in global scope.\")\n",
    "                print(\"Please run: X_train, X_test, Y_train, Y_test = load_and_preprocess_data()\")\n",
    "                return None\n",
    "        \n",
    "        if model is None:\n",
    "            print(\"No model detected. Available model names: \" + \n",
    "                        \", \".join(model_candidates))\n",
    "            print(\"Please ensure your model is stored in one of these variable names.\")\n",
    "            return None\n",
    "        \n",
    "        print(f\"Using model: {model_name}\")\n",
    "        print(f\"Test dataset: {len(X_test)} samples\")\n",
    "        \n",
    "        # Create tester and run tests\n",
    "        tester = ModelTester(model, X_test, Y_test)\n",
    "        \n",
    "        if num_tests == 1:\n",
    "            return tester.test_single_prediction()\n",
    "        else:\n",
    "            return tester.batch_test(num_tests)\n",
    "\n",
    "\n",
    "# =============================================================================\n",
    "# USAGE EXAMPLES\n",
    "# =============================================================================\n",
    "\n",
    "def main():\n",
    "    \"\"\"Main function demonstrating usage.\"\"\"\n",
    "    print(\"Professional Model Testing Suite\")\n",
    "    print(\"=\"*50)\n",
    "    \n",
    "    # Method 1: Auto-detection (recommended)\n",
    "    print(\"\\n1. Auto-detecting model and test data...\")\n",
    "    ModelTester.auto_detect_and_test(globals(), num_tests=1)\n",
    "    \n",
    "    # Method 2: Manual initialization (if auto-detection fails)\n",
    "    # Uncomment and modify as needed:\n",
    "    \"\"\"\n",
    "    if 'your_model' in globals() and 'X_test' in globals() and 'Y_test' in globals():\n",
    "        tester = ModelTester(your_model, X_test, Y_test)\n",
    "        \n",
    "        # Single test\n",
    "        tester.test_single_prediction()\n",
    "        \n",
    "        # Batch test\n",
    "        # tester.batch_test(num_tests=5)\n",
    "    \"\"\""
   ]
  },
  {
   "cell_type": "code",
   "execution_count": 40,
   "id": "7b023ebd",
   "metadata": {},
   "outputs": [
    {
     "name": "stdout",
     "output_type": "stream",
     "text": [
      "Using model: transfer_model\n",
      "Test dataset: 400 samples\n"
     ]
    },
    {
     "data": {
      "image/png": "[encoded data removed]",
      "text/plain": [
       "<Figure size 600x600 with 1 Axes>"
      ]
     },
     "metadata": {},
     "output_type": "display_data"
    },
    {
     "name": "stdout",
     "output_type": "stream",
     "text": [
      "{'sample_index': 297, 'is_correct': True, 'predicted_class': 'Cat', 'actual_class': 'Cat', 'confidence': np.float32(0.98889214), 'raw_score': np.float32(0.98889214)}\n"
     ]
    },
    {
     "data": {
      "text/plain": [
       "{'sample_index': 297,\n",
       " 'is_correct': True,\n",
       " 'predicted_class': 'Cat',\n",
       " 'actual_class': 'Cat',\n",
       " 'confidence': np.float32(0.98889214),\n",
       " 'raw_score': np.float32(0.98889214)}"
      ]
     },
     "execution_count": 40,
     "metadata": {},
     "output_type": "execute_result"
    }
   ],
   "source": [
    "\n",
    "ModelTester.auto_detect_and_test(globals(), num_tests=1)"
   ]
  },
  {
   "cell_type": "code",
   "execution_count": null,
   "id": "dfd1c651",
   "metadata": {},
   "outputs": [],
   "source": []
  }
 ],
 "metadata": {
  "kernelspec": {
   "display_name": ".venv",
   "language": "python",
   "name": "python3"
  },
  "language_info": {
   "codemirror_mode": {
    "name": "ipython",
    "version": 3
   },
   "file_extension": ".py",
   "mimetype": "text/x-python",
   "name": "python",
   "nbconvert_exporter": "python",
   "pygments_lexer": "ipython3",
   "version": "3.11.3"
  }
 },
 "nbformat": 4,
 "nbformat_minor": 5
}
