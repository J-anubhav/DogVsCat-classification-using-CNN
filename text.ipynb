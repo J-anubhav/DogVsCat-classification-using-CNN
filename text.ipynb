{
 "cells": [
  {
   "cell_type": "markdown",
   "id": "6d11369a",
   "metadata": {},
   "source": [
    "# New model"
   ]
  },
  {
   "cell_type": "code",
   "execution_count": null,
   "id": "845eaafc",
   "metadata": {},
   "outputs": [],
   "source": [
    "import numpy as np\n",
    "import matplotlib.pyplot as plt\n",
    "import tensorflow as tf\n",
    "from tensorflow.keras.models import Sequential, Model\n",
    "from tensorflow.keras.layers import (Conv2D, MaxPooling2D, Flatten, Dense, \n",
    "                                   Dropout, BatchNormalization, GlobalAveragePooling2D)\n",
    "from tensorflow.keras.preprocessing.image import ImageDataGenerator\n",
    "from tensorflow.keras.callbacks import (EarlyStopping, ReduceLROnPlateau, ModelCheckpoint)\n",
    "from tensorflow.keras.optimizers import Adam\n",
    "from tensorflow.keras.applications import VGG16\n",
    "from sklearn.metrics import confusion_matrix, classification_report\n",
    "import seaborn as sns"
   ]
  },
  {
   "cell_type": "markdown",
   "id": "6263eb4b",
   "metadata": {},
   "source": [
    "## Load and preprocessing data"
   ]
  },
  {
   "cell_type": "code",
   "execution_count": 2,
   "id": "7dbebdfd",
   "metadata": {},
   "outputs": [],
   "source": [
    "def load_and_preprocess_data():\n",
    "    \"\"\"Load data with improved preprocessing\"\"\"\n",
    "    try:\n",
    "        X_train = np.loadtxt('input.csv', delimiter=',')\n",
    "        X_test = np.loadtxt('input_test.csv', delimiter=',')\n",
    "        Y_train = np.loadtxt('labels.csv', delimiter=',')\n",
    "        Y_test = np.loadtxt('labels_test.csv', delimiter=',')\n",
    "    except ValueError:\n",
    "        import pandas as pd\n",
    "        X_train = pd.read_csv('input.csv').to_numpy()\n",
    "        X_test = pd.read_csv('input_test.csv').to_numpy()\n",
    "        Y_train = pd.read_csv('labels.csv').to_numpy()\n",
    "        Y_test = pd.read_csv('labels_test.csv').to_numpy()\n",
    "    \n",
    "    # Reshape data\n",
    "    X_train = X_train.reshape(-1, 100, 100, 3)\n",
    "    X_test = X_test.reshape(-1, 100, 100, 3)\n",
    "    Y_train = Y_train.reshape(-1, 1)\n",
    "    Y_test = Y_test.reshape(-1, 1)\n",
    "    \n",
    "    # Normalize pixel values\n",
    "    X_train = X_train.astype('float32') / 255.0\n",
    "    X_test = X_test.astype('float32') / 255.0\n",
    "    \n",
    "    # Per-channel normalization \n",
    "    # Compute mean and std per channel on training data\n",
    "    train_mean = np.mean(X_train, axis=(0, 1, 2))\n",
    "    train_std = np.std(X_train, axis=(0, 1, 2))\n",
    "    \n",
    "    # Apply normalization\n",
    "    X_train = (X_train - train_mean) / (train_std + 1e-7)\n",
    "    X_test = (X_test - train_mean) / (train_std + 1e-7)\n",
    "    \n",
    "    print(f\"Training data shape: {X_train.shape}\")\n",
    "    print(f\"Test data shape: {X_test.shape}\")\n",
    "    print(f\"Training labels distribution: {np.bincount(Y_train.astype(int).flatten())}\")\n",
    "    \n",
    "    return X_train, X_test, Y_train, Y_test"
   ]
  },
  {
   "cell_type": "markdown",
   "id": "2a8d8e8e",
   "metadata": {},
   "source": [
    "# data augmentatio"
   ]
  },
  {
   "cell_type": "code",
   "execution_count": 3,
   "id": "11b6d668",
   "metadata": {},
   "outputs": [],
   "source": [
    "def create_data_generators(X_train, Y_train, X_test, Y_test):\n",
    "    \"\"\"Create data generators with more aggressive augmentation\"\"\"\n",
    "    train_datagen = ImageDataGenerator(\n",
    "        rotation_range=30,\n",
    "        width_shift_range=0.3,\n",
    "        height_shift_range=0.3,\n",
    "        horizontal_flip=True,\n",
    "        zoom_range=0.3,\n",
    "        shear_range=0.2,\n",
    "        brightness_range=[0.8, 1.2],\n",
    "        fill_mode='nearest'\n",
    "    )\n",
    "    \n",
    "    # No augmentation for validation data\n",
    "    val_datagen = ImageDataGenerator()\n",
    "    \n",
    "    train_generator = train_datagen.flow(X_train, Y_train, batch_size=32)\n",
    "    val_generator = val_datagen.flow(X_test, Y_test, batch_size=32, shuffle=False)\n",
    "    \n",
    "    return train_generator, val_generator\n"
   ]
  },
  {
   "cell_type": "markdown",
   "id": "6472e3f9",
   "metadata": {},
   "source": [
    "# CNN architecture"
   ]
  },
  {
   "cell_type": "code",
   "execution_count": 4,
   "id": "89fbc077",
   "metadata": {},
   "outputs": [],
   "source": [
    "def create_improved_model():\n",
    "    \"\"\"Create an improved CNN model with better architecture\"\"\"\n",
    "    model = Sequential([\n",
    "        # First Convolutional Block\n",
    "        Conv2D(32, (3, 3), activation='relu', input_shape=(100, 100, 3)),\n",
    "        BatchNormalization(),\n",
    "        Conv2D(32, (3, 3), activation='relu'),\n",
    "        MaxPooling2D((2, 2)),\n",
    "        Dropout(0.25),\n",
    "        \n",
    "        # Second Convolutional Block\n",
    "        Conv2D(64, (3, 3), activation='relu'),\n",
    "        BatchNormalization(),\n",
    "        Conv2D(64, (3, 3), activation='relu'),\n",
    "        MaxPooling2D((2, 2)),\n",
    "        Dropout(0.25),\n",
    "        \n",
    "        # Third Convolutional Block\n",
    "        Conv2D(128, (3, 3), activation='relu'),\n",
    "        BatchNormalization(),\n",
    "        Conv2D(128, (3, 3), activation='relu'),\n",
    "        MaxPooling2D((2, 2)),\n",
    "        Dropout(0.25),\n",
    "        \n",
    "        # Fourth Convolutional Block\n",
    "        Conv2D(256, (3, 3), activation='relu'),\n",
    "        BatchNormalization(),\n",
    "        Dropout(0.25),\n",
    "        \n",
    "        # Global Average Pooling instead of Flatten\n",
    "        GlobalAveragePooling2D(),\n",
    "        \n",
    "        # Dense layers\n",
    "        Dense(512, activation='relu'),\n",
    "        BatchNormalization(),\n",
    "        Dropout(0.5),\n",
    "        Dense(256, activation='relu'),\n",
    "        Dropout(0.5),\n",
    "        Dense(1, activation='sigmoid')\n",
    "    ])\n",
    "    \n",
    "    return model\n"
   ]
  },
  {
   "cell_type": "markdown",
   "id": "ba439f73",
   "metadata": {},
   "source": [
    "# Transfer learning model (VGG16-based)"
   ]
  },
  {
   "cell_type": "code",
   "execution_count": 5,
   "id": "608f81d4",
   "metadata": {},
   "outputs": [],
   "source": [
    "def create_transfer_learning_model():\n",
    "    \"\"\"Create a transfer learning model using VGG16\"\"\"\n",
    "    from tensorflow.keras.applications import VGG16\n",
    "    from tensorflow.keras.models import Model\n",
    "    \n",
    "    # Load pre-trained VGG16 model\n",
    "    base_model = VGG16(weights='imagenet', include_top=False, input_shape=(100, 100, 3))\n",
    "    \n",
    "    # Freeze early layers\n",
    "    for layer in base_model.layers[:-4]:\n",
    "        layer.trainable = False\n",
    "    \n",
    "    # Add custom classifier\n",
    "    x = base_model.output\n",
    "    x = GlobalAveragePooling2D()(x)\n",
    "    x = Dense(512, activation='relu')(x)\n",
    "    x = BatchNormalization()(x)\n",
    "    x = Dropout(0.5)(x)\n",
    "    x = Dense(256, activation='relu')(x)\n",
    "    x = Dropout(0.5)(x)\n",
    "    predictions = Dense(1, activation='sigmoid')(x)\n",
    "    \n",
    "    model = Model(inputs=base_model.input, outputs=predictions)\n",
    "    return model"
   ]
  },
  {
   "cell_type": "markdown",
   "id": "1208d97c",
   "metadata": {},
   "source": [
    "# Training "
   ]
  },
  {
   "cell_type": "code",
   "execution_count": 6,
   "id": "b748c2d6",
   "metadata": {},
   "outputs": [],
   "source": [
    "def train_model(model, train_generator, val_generator, model_name=\"enhanced_model\"):\n",
    "    \"\"\"Train the model with advanced callbacks\"\"\"\n",
    "    \n",
    "    # Compile with optimized parameters\n",
    "    optimizer = Adam(learning_rate=0.001, beta_1=0.9, beta_2=0.999)\n",
    "    model.compile(\n",
    "        optimizer=optimizer,\n",
    "        loss='binary_crossentropy',\n",
    "        metrics=['accuracy']\n",
    "    )\n",
    "    \n",
    "    # Advanced callbacks\n",
    "    callbacks = [\n",
    "        EarlyStopping(\n",
    "            monitor='val_accuracy',\n",
    "            patience=10,\n",
    "            restore_best_weights=True,\n",
    "            verbose=1\n",
    "        ),\n",
    "        ReduceLROnPlateau(\n",
    "            monitor='val_loss',\n",
    "            factor=0.5,\n",
    "            patience=5,\n",
    "            min_lr=1e-7,\n",
    "            verbose=1\n",
    "        ),\n",
    "        ModelCheckpoint(\n",
    "            f'{model_name}_best.h5',\n",
    "            monitor='val_accuracy',\n",
    "            save_best_only=True,\n",
    "            verbose=1\n",
    "        )\n",
    "    ]\n",
    "    \n",
    "    # Train the model\n",
    "    history = model.fit(\n",
    "        train_generator,\n",
    "        epochs=100,  # More epochs with early stopping\n",
    "        validation_data=val_generator,\n",
    "        callbacks=callbacks,\n",
    "        verbose=1\n",
    "    )\n",
    "    \n",
    "    return history\n"
   ]
  },
  {
   "cell_type": "markdown",
   "id": "c8bce0c3",
   "metadata": {},
   "source": [
    "# Evaluation and visualization"
   ]
  },
  {
   "cell_type": "code",
   "execution_count": 7,
   "id": "b2362f99",
   "metadata": {},
   "outputs": [],
   "source": [
    "def evaluate_and_visualize(model, X_test, Y_test):\n",
    "    \"\"\"Comprehensive model evaluation\"\"\"\n",
    "    \n",
    "    # Make predictions\n",
    "    y_pred_prob = model.predict(X_test)\n",
    "    y_pred = (y_pred_prob > 0.5).astype(int)\n",
    "    \n",
    "    # Calculate accuracy\n",
    "    accuracy = np.mean(y_pred.flatten() == Y_test.flatten())\n",
    "    print(f\"Final Test Accuracy: {accuracy:.4f}\")\n",
    "    \n",
    "    # Confusion Matrix\n",
    "    cm = confusion_matrix(Y_test, y_pred)\n",
    "    plt.figure(figsize=(8, 6))\n",
    "    sns.heatmap(cm, annot=True, fmt='d', cmap='Blues', \n",
    "                xticklabels=['Dog', 'Cat'], yticklabels=['Dog', 'Cat'])\n",
    "    plt.xlabel('Predicted')\n",
    "    plt.ylabel('True')\n",
    "    plt.title('Confusion Matrix - Enhanced Model')\n",
    "    plt.show()\n",
    "    \n",
    "    # Classification Report\n",
    "    print(\"\\nClassification Report:\")\n",
    "    print(classification_report(Y_test, y_pred, target_names=['Dog', 'Cat']))\n",
    "    \n",
    "    return accuracy\n"
   ]
  },
  {
   "cell_type": "markdown",
   "id": "581508c7",
   "metadata": {},
   "source": [
    "# Ensemble method"
   ]
  },
  {
   "cell_type": "code",
   "execution_count": 8,
   "id": "10866da9",
   "metadata": {},
   "outputs": [],
   "source": [
    "def create_ensemble_prediction(models, X_test):\n",
    "    \"\"\"Create ensemble predictions from multiple models\"\"\"\n",
    "    predictions = []\n",
    "    \n",
    "    for model in models:\n",
    "        pred = model.predict(X_test)\n",
    "        predictions.append(pred)\n",
    "    \n",
    "    # Average predictions\n",
    "    ensemble_pred = np.mean(predictions, axis=0)\n",
    "    return (ensemble_pred > 0.5).astype(int)\n",
    "\n",
    "# Main execution function\n",
    "def main():\n",
    "    \"\"\"Main function to run the entire pipeline\"\"\"\n",
    "    \n",
    "    print(\"=\"*50)\n",
    "    print(\"ENHANCED DOG VS CAT CLASSIFICATION\")\n",
    "    print(\"=\"*50)\n",
    "    \n",
    "    # Step 1: Load and preprocess data\n",
    "    print(\"\\n1. Loading and preprocessing data...\")\n",
    "    X_train, X_test, Y_train, Y_test = load_and_preprocess_data()\n",
    "    \n",
    "    # Step 2: Create data generators\n",
    "    print(\"\\n2. Creating data generators...\")\n",
    "    train_gen, val_gen = create_data_generators(X_train, Y_train, X_test, Y_test)\n",
    "    \n",
    "    # Step 3: Train improved CNN model\n",
    "    print(\"\\n3. Training improved CNN model...\")\n",
    "    improved_model = create_improved_model()\n",
    "    print(f\"Model parameters: {improved_model.count_params():,}\")\n",
    "    \n",
    "    history1 = train_model(improved_model, train_gen, val_gen, \"improved_cnn\")\n",
    "    acc1 = evaluate_and_visualize(improved_model, X_test, Y_test)\n",
    "    \n",
    "    # Step 4: Train transfer learning model\n",
    "    print(\"\\n4. Training transfer learning model...\")\n",
    "    transfer_model = create_transfer_learning_model()\n",
    "    print(f\"Transfer model parameters: {transfer_model.count_params():,}\")\n",
    "    \n",
    "    # Recreate generators for transfer learning\n",
    "    train_gen2, val_gen2 = create_data_generators(X_train, Y_train, X_test, Y_test)\n",
    "    history2 = train_model(transfer_model, train_gen2, val_gen2, \"transfer_learning\")\n",
    "    acc2 = evaluate_and_visualize(transfer_model, X_test, Y_test)\n",
    "    "
   ]
  },
  {
   "cell_type": "markdown",
   "id": "6b3857a4",
   "metadata": {},
   "source": [
    "# prediction"
   ]
  },
  {
   "cell_type": "code",
   "execution_count": 10,
   "id": "974254d1",
   "metadata": {},
   "outputs": [],
   "source": [
    "def create_ensemble_prediction(models, X_test):\n",
    "    \"\"\"Create ensemble predictions from multiple models\"\"\"\n",
    "    predictions = []\n",
    "    \n",
    "    for model in models:\n",
    "        pred = model.predict(X_test)\n",
    "        predictions.append(pred)\n",
    "    \n",
    "    # Average predictions\n",
    "    ensemble_pred = np.mean(predictions, axis=0)\n",
    "    return (ensemble_pred > 0.5).astype(int)\n",
    "\n",
    "# Main execution function\n",
    "def main():\n",
    "    \"\"\"Main function to run the entire pipeline\"\"\"\n",
    "    \n",
    "    print(\"=\"*50)\n",
    "    print(\"ENHANCED DOG VS CAT CLASSIFICATION\")\n",
    "    print(\"=\"*50)\n",
    "    \n",
    "    # Step 1: Load and preprocess data\n",
    "    print(\"\\n1. Loading and preprocessing data...\")\n",
    "    X_train, X_test, Y_train, Y_test = load_and_preprocess_data()\n",
    "    \n",
    "    # Step 2: Create data generators\n",
    "    print(\"\\n2. Creating data generators...\")\n",
    "    train_gen, val_gen = create_data_generators(X_train, Y_train, X_test, Y_test)\n",
    "    \n",
    "    # Step 3: Train improved CNN model\n",
    "    print(\"\\n3. Training improved CNN model...\")\n",
    "    improved_model = create_improved_model()\n",
    "    print(f\"Model parameters: {improved_model.count_params():,}\")\n",
    "    \n",
    "    history1 = train_model(improved_model, train_gen, val_gen, \"improved_cnn\")\n",
    "    acc1 = evaluate_and_visualize(improved_model, X_test, Y_test)\n",
    "    \n",
    "    # Step 4: Train transfer learning model\n",
    "    print(\"\\n4. Training transfer learning model...\")\n",
    "    transfer_model = create_transfer_learning_model()\n",
    "    print(f\"Transfer model parameters: {transfer_model.count_params():,}\")\n",
    "    \n",
    "    # Recreate generators for transfer learning\n",
    "    train_gen2, val_gen2 = create_data_generators(X_train, Y_train, X_test, Y_test)\n",
    "    history2 = train_model(transfer_model, train_gen2, val_gen2, \"transfer_learning\")\n",
    "    acc2 = evaluate_and_visualize(transfer_model, X_test, Y_test)\n",
    "    \n",
    "    # Step 5: Ensemble prediction\n",
    "    print(\"\\n5. Creating ensemble prediction...\")\n",
    "    ensemble_pred = create_ensemble_prediction([improved_model, transfer_model], X_test)\n",
    "    ensemble_acc = np.mean(ensemble_pred.flatten() == Y_test.flatten())\n",
    "    print(f\"Ensemble Accuracy: {ensemble_acc:.4f}\")\n",
    "    \n",
    "    # Final comparison\n",
    "    print(\"\\n\" + \"=\"*50)\n",
    "    print(\"FINAL RESULTS COMPARISON:\")\n",
    "    print(\"=\"*50)\n",
    "    print(f\"Improved CNN Accuracy: {acc1:.4f}\")\n",
    "    print(f\"Transfer Learning Accuracy: {acc2:.4f}\")\n",
    "    print(f\"Ensemble Accuracy: {ensemble_acc:.4f}\")\n",
    "    print(\"=\"*50)\n",
    "    \n",
    "    return improved_model, transfer_model, ensemble_acc\n",
    "\n",
    "# Additional utility functions\n",
    "def plot_training_history(history):\n",
    "    \"\"\"Plot training history\"\"\"\n",
    "    plt.figure(figsize=(12, 4))\n",
    "    \n",
    "    plt.subplot(1, 2, 1)\n",
    "    plt.plot(history.history['accuracy'], label='Training Accuracy')\n",
    "    plt.plot(history.history['val_accuracy'], label='Validation Accuracy')\n",
    "    plt.title('Model Accuracy')\n",
    "    plt.xlabel('Epoch')\n",
    "    plt.ylabel('Accuracy')\n",
    "    plt.legend()\n",
    "    \n",
    "    plt.subplot(1, 2, 2)\n",
    "    plt.plot(history.history['loss'], label='Training Loss')\n",
    "    plt.plot(history.history['val_loss'], label='Validation Loss')\n",
    "    plt.title('Model Loss')\n",
    "    plt.xlabel('Epoch')\n",
    "    plt.ylabel('Loss')\n",
    "    plt.legend()\n",
    "    \n",
    "    plt.tight_layout()\n",
    "    plt.show()\n",
    "\n",
    "def show_prediction_examples(model, X_test, Y_test, num_examples=8):\n",
    "    \"\"\"Show prediction examples\"\"\"\n",
    "    indices = np.random.choice(len(X_test), num_examples, replace=False)\n",
    "    \n",
    "    plt.figure(figsize=(16, 8))\n",
    "    for i, idx in enumerate(indices):\n",
    "        plt.subplot(2, 4, i+1)\n",
    "        \n",
    "        # Denormalize image for display (if normalized)\n",
    "        img = X_test[idx]\n",
    "        if img.min() < 0:  # If normalized\n",
    "            img = (img - img.min()) / (img.max() - img.min())\n",
    "        \n",
    "        plt.imshow(img)\n",
    "        \n",
    "        pred_prob = model.predict(np.expand_dims(X_test[idx], axis=0))[0][0]\n",
    "        pred_class = \"Cat\" if pred_prob > 0.5 else \"Dog\"\n",
    "        true_class = \"Cat\" if Y_test[idx][0] > 0.5 else \"Dog\"\n",
    "        \n",
    "        color = 'green' if pred_class == true_class else 'red'\n",
    "        plt.title(f'True: {true_class}\\nPred: {pred_class} ({pred_prob:.2f})', \n",
    "                 color=color)\n",
    "        plt.axis('off')\n",
    "    \n",
    "    plt.tight_layout()\n",
    "    plt.show()"
   ]
  },
  {
   "cell_type": "markdown",
   "id": "ad69ea25",
   "metadata": {},
   "source": [
    "# Main"
   ]
  },
  {
   "cell_type": "code",
   "execution_count": 11,
   "id": "84d1b1e7",
   "metadata": {},
   "outputs": [
    {
     "name": "stdout",
     "output_type": "stream",
     "text": [
      "==================================================\n",
      "ENHANCED DOG VS CAT CLASSIFICATION\n",
      "==================================================\n",
      "\n",
      "1. Loading and preprocessing data...\n",
      "Training data shape: (2000, 100, 100, 3)\n",
      "Test data shape: (400, 100, 100, 3)\n",
      "Training labels distribution: [1000 1000]\n",
      "\n",
      "2. Creating data generators...\n",
      "\n",
      "3. Training improved CNN model...\n"
     ]
    },
    {
     "name": "stderr",
     "output_type": "stream",
     "text": [
      "d:\\Code\\DogVsCat-classification-using-CNN\\.venv\\Lib\\site-packages\\keras\\src\\layers\\convolutional\\base_conv.py:113: UserWarning: Do not pass an `input_shape`/`input_dim` argument to a layer. When using Sequential models, prefer using an `Input(shape)` object as the first layer in the model instead.\n",
      "  super().__init__(activity_regularizer=activity_regularizer, **kwargs)\n"
     ]
    },
    {
     "name": "stdout",
     "output_type": "stream",
     "text": [
      "Model parameters: 849,313\n"
     ]
    },
    {
     "name": "stderr",
     "output_type": "stream",
     "text": [
      "d:\\Code\\DogVsCat-classification-using-CNN\\.venv\\Lib\\site-packages\\keras\\src\\trainers\\data_adapters\\py_dataset_adapter.py:121: UserWarning: Your `PyDataset` class should call `super().__init__(**kwargs)` in its constructor. `**kwargs` can include `workers`, `use_multiprocessing`, `max_queue_size`. Do not pass these arguments to `fit()`, as they will be ignored.\n",
      "  self._warn_if_super_not_called()\n"
     ]
    },
    {
     "name": "stdout",
     "output_type": "stream",
     "text": [
      "Epoch 1/100\n",
      "\u001b[1m63/63\u001b[0m \u001b[32m━━━━━━━━━━━━━━━━━━━━\u001b[0m\u001b[37m\u001b[0m \u001b[1m0s\u001b[0m 225ms/step - accuracy: 0.5129 - loss: 1.1007\n",
      "Epoch 1: val_accuracy improved from None to 0.56000, saving model to improved_cnn_best.h5\n"
     ]
    },
    {
     "name": "stderr",
     "output_type": "stream",
     "text": [
      "WARNING:absl:You are saving your model as an HDF5 file via `model.save()` or `keras.saving.save_model(model)`. This file format is considered legacy. We recommend using instead the native Keras format, e.g. `model.save('my_model.keras')` or `keras.saving.save_model(model, 'my_model.keras')`. \n"
     ]
    },
    {
     "name": "stdout",
     "output_type": "stream",
     "text": [
      "\u001b[1m63/63\u001b[0m \u001b[32m━━━━━━━━━━━━━━━━━━━━\u001b[0m\u001b[37m\u001b[0m \u001b[1m20s\u001b[0m 245ms/step - accuracy: 0.5010 - loss: 1.0985 - val_accuracy: 0.5600 - val_loss: 0.6893 - learning_rate: 0.0010\n",
      "Epoch 2/100\n",
      "\u001b[1m63/63\u001b[0m \u001b[32m━━━━━━━━━━━━━━━━━━━━\u001b[0m\u001b[37m\u001b[0m \u001b[1m0s\u001b[0m 231ms/step - accuracy: 0.5312 - loss: 0.9411\n",
      "Epoch 2: val_accuracy did not improve from 0.56000\n",
      "\u001b[1m63/63\u001b[0m \u001b[32m━━━━━━━━━━━━━━━━━━━━\u001b[0m\u001b[37m\u001b[0m \u001b[1m15s\u001b[0m 242ms/step - accuracy: 0.5220 - loss: 0.9261 - val_accuracy: 0.5100 - val_loss: 0.7063 - learning_rate: 0.0010\n",
      "Epoch 3/100\n",
      "\u001b[1m63/63\u001b[0m \u001b[32m━━━━━━━━━━━━━━━━━━━━\u001b[0m\u001b[37m\u001b[0m \u001b[1m0s\u001b[0m 220ms/step - accuracy: 0.5429 - loss: 0.9153\n",
      "Epoch 3: val_accuracy did not improve from 0.56000\n",
      "\u001b[1m63/63\u001b[0m \u001b[32m━━━━━━━━━━━━━━━━━━━━\u001b[0m\u001b[37m\u001b[0m \u001b[1m15s\u001b[0m 231ms/step - accuracy: 0.5410 - loss: 0.8696 - val_accuracy: 0.4950 - val_loss: 0.8943 - learning_rate: 0.0010\n",
      "Epoch 4/100\n",
      "\u001b[1m63/63\u001b[0m \u001b[32m━━━━━━━━━━━━━━━━━━━━\u001b[0m\u001b[37m\u001b[0m \u001b[1m0s\u001b[0m 221ms/step - accuracy: 0.5551 - loss: 0.8142\n",
      "Epoch 4: val_accuracy did not improve from 0.56000\n",
      "\u001b[1m63/63\u001b[0m \u001b[32m━━━━━━━━━━━━━━━━━━━━\u001b[0m\u001b[37m\u001b[0m \u001b[1m15s\u001b[0m 231ms/step - accuracy: 0.5505 - loss: 0.8164 - val_accuracy: 0.5350 - val_loss: 0.6909 - learning_rate: 0.0010\n",
      "Epoch 5/100\n",
      "\u001b[1m63/63\u001b[0m \u001b[32m━━━━━━━━━━━━━━━━━━━━\u001b[0m\u001b[37m\u001b[0m \u001b[1m0s\u001b[0m 219ms/step - accuracy: 0.5653 - loss: 0.8157\n",
      "Epoch 5: val_accuracy did not improve from 0.56000\n",
      "\u001b[1m63/63\u001b[0m \u001b[32m━━━━━━━━━━━━━━━━━━━━\u001b[0m\u001b[37m\u001b[0m \u001b[1m15s\u001b[0m 230ms/step - accuracy: 0.5705 - loss: 0.7862 - val_accuracy: 0.5425 - val_loss: 0.7158 - learning_rate: 0.0010\n",
      "Epoch 6/100\n",
      "\u001b[1m63/63\u001b[0m \u001b[32m━━━━━━━━━━━━━━━━━━━━\u001b[0m\u001b[37m\u001b[0m \u001b[1m0s\u001b[0m 223ms/step - accuracy: 0.5739 - loss: 0.7422\n",
      "Epoch 6: val_accuracy improved from 0.56000 to 0.57750, saving model to improved_cnn_best.h5\n"
     ]
    },
    {
     "name": "stderr",
     "output_type": "stream",
     "text": [
      "WARNING:absl:You are saving your model as an HDF5 file via `model.save()` or `keras.saving.save_model(model)`. This file format is considered legacy. We recommend using instead the native Keras format, e.g. `model.save('my_model.keras')` or `keras.saving.save_model(model, 'my_model.keras')`. \n"
     ]
    },
    {
     "name": "stdout",
     "output_type": "stream",
     "text": [
      "\u001b[1m63/63\u001b[0m \u001b[32m━━━━━━━━━━━━━━━━━━━━\u001b[0m\u001b[37m\u001b[0m \u001b[1m15s\u001b[0m 235ms/step - accuracy: 0.5800 - loss: 0.7309 - val_accuracy: 0.5775 - val_loss: 0.6609 - learning_rate: 0.0010\n",
      "Epoch 7/100\n",
      "\u001b[1m63/63\u001b[0m \u001b[32m━━━━━━━━━━━━━━━━━━━━\u001b[0m\u001b[37m\u001b[0m \u001b[1m0s\u001b[0m 224ms/step - accuracy: 0.5710 - loss: 0.7263\n",
      "Epoch 7: val_accuracy did not improve from 0.57750\n",
      "\u001b[1m63/63\u001b[0m \u001b[32m━━━━━━━━━━━━━━━━━━━━\u001b[0m\u001b[37m\u001b[0m \u001b[1m15s\u001b[0m 235ms/step - accuracy: 0.5810 - loss: 0.7236 - val_accuracy: 0.5750 - val_loss: 0.7317 - learning_rate: 0.0010\n",
      "Epoch 8/100\n",
      "\u001b[1m63/63\u001b[0m \u001b[32m━━━━━━━━━━━━━━━━━━━━\u001b[0m\u001b[37m\u001b[0m \u001b[1m0s\u001b[0m 220ms/step - accuracy: 0.6063 - loss: 0.7066\n",
      "Epoch 8: val_accuracy improved from 0.57750 to 0.60750, saving model to improved_cnn_best.h5\n"
     ]
    },
    {
     "name": "stderr",
     "output_type": "stream",
     "text": [
      "WARNING:absl:You are saving your model as an HDF5 file via `model.save()` or `keras.saving.save_model(model)`. This file format is considered legacy. We recommend using instead the native Keras format, e.g. `model.save('my_model.keras')` or `keras.saving.save_model(model, 'my_model.keras')`. \n"
     ]
    },
    {
     "name": "stdout",
     "output_type": "stream",
     "text": [
      "\u001b[1m63/63\u001b[0m \u001b[32m━━━━━━━━━━━━━━━━━━━━\u001b[0m\u001b[37m\u001b[0m \u001b[1m15s\u001b[0m 233ms/step - accuracy: 0.5930 - loss: 0.6993 - val_accuracy: 0.6075 - val_loss: 0.6607 - learning_rate: 0.0010\n",
      "Epoch 9/100\n",
      "\u001b[1m63/63\u001b[0m \u001b[32m━━━━━━━━━━━━━━━━━━━━\u001b[0m\u001b[37m\u001b[0m \u001b[1m0s\u001b[0m 219ms/step - accuracy: 0.6184 - loss: 0.6427\n",
      "Epoch 9: val_accuracy did not improve from 0.60750\n",
      "\u001b[1m63/63\u001b[0m \u001b[32m━━━━━━━━━━━━━━━━━━━━\u001b[0m\u001b[37m\u001b[0m \u001b[1m15s\u001b[0m 231ms/step - accuracy: 0.6125 - loss: 0.6665 - val_accuracy: 0.5875 - val_loss: 0.7125 - learning_rate: 0.0010\n",
      "Epoch 10/100\n",
      "\u001b[1m63/63\u001b[0m \u001b[32m━━━━━━━━━━━━━━━━━━━━\u001b[0m\u001b[37m\u001b[0m \u001b[1m0s\u001b[0m 224ms/step - accuracy: 0.6078 - loss: 0.6725\n",
      "Epoch 10: val_accuracy improved from 0.60750 to 0.61250, saving model to improved_cnn_best.h5\n"
     ]
    },
    {
     "name": "stderr",
     "output_type": "stream",
     "text": [
      "WARNING:absl:You are saving your model as an HDF5 file via `model.save()` or `keras.saving.save_model(model)`. This file format is considered legacy. We recommend using instead the native Keras format, e.g. `model.save('my_model.keras')` or `keras.saving.save_model(model, 'my_model.keras')`. \n"
     ]
    },
    {
     "name": "stdout",
     "output_type": "stream",
     "text": [
      "\u001b[1m63/63\u001b[0m \u001b[32m━━━━━━━━━━━━━━━━━━━━\u001b[0m\u001b[37m\u001b[0m \u001b[1m15s\u001b[0m 238ms/step - accuracy: 0.6210 - loss: 0.6635 - val_accuracy: 0.6125 - val_loss: 0.6439 - learning_rate: 0.0010\n",
      "Epoch 11/100\n",
      "\u001b[1m63/63\u001b[0m \u001b[32m━━━━━━━━━━━━━━━━━━━━\u001b[0m\u001b[37m\u001b[0m \u001b[1m0s\u001b[0m 221ms/step - accuracy: 0.6090 - loss: 0.6711\n",
      "Epoch 11: val_accuracy improved from 0.61250 to 0.63000, saving model to improved_cnn_best.h5\n"
     ]
    },
    {
     "name": "stderr",
     "output_type": "stream",
     "text": [
      "WARNING:absl:You are saving your model as an HDF5 file via `model.save()` or `keras.saving.save_model(model)`. This file format is considered legacy. We recommend using instead the native Keras format, e.g. `model.save('my_model.keras')` or `keras.saving.save_model(model, 'my_model.keras')`. \n"
     ]
    },
    {
     "name": "stdout",
     "output_type": "stream",
     "text": [
      "\u001b[1m63/63\u001b[0m \u001b[32m━━━━━━━━━━━━━━━━━━━━\u001b[0m\u001b[37m\u001b[0m \u001b[1m15s\u001b[0m 234ms/step - accuracy: 0.6110 - loss: 0.6706 - val_accuracy: 0.6300 - val_loss: 0.6317 - learning_rate: 0.0010\n",
      "Epoch 12/100\n",
      "\u001b[1m63/63\u001b[0m \u001b[32m━━━━━━━━━━━━━━━━━━━━\u001b[0m\u001b[37m\u001b[0m \u001b[1m0s\u001b[0m 226ms/step - accuracy: 0.6340 - loss: 0.6786\n",
      "Epoch 12: val_accuracy did not improve from 0.63000\n",
      "\u001b[1m63/63\u001b[0m \u001b[32m━━━━━━━━━━━━━━━━━━━━\u001b[0m\u001b[37m\u001b[0m \u001b[1m15s\u001b[0m 237ms/step - accuracy: 0.6395 - loss: 0.6582 - val_accuracy: 0.5850 - val_loss: 0.6815 - learning_rate: 0.0010\n",
      "Epoch 13/100\n",
      "\u001b[1m63/63\u001b[0m \u001b[32m━━━━━━━━━━━━━━━━━━━━\u001b[0m\u001b[37m\u001b[0m \u001b[1m0s\u001b[0m 223ms/step - accuracy: 0.6354 - loss: 0.6425\n",
      "Epoch 13: val_accuracy improved from 0.63000 to 0.63250, saving model to improved_cnn_best.h5\n"
     ]
    },
    {
     "name": "stderr",
     "output_type": "stream",
     "text": [
      "WARNING:absl:You are saving your model as an HDF5 file via `model.save()` or `keras.saving.save_model(model)`. This file format is considered legacy. We recommend using instead the native Keras format, e.g. `model.save('my_model.keras')` or `keras.saving.save_model(model, 'my_model.keras')`. \n"
     ]
    },
    {
     "name": "stdout",
     "output_type": "stream",
     "text": [
      "\u001b[1m63/63\u001b[0m \u001b[32m━━━━━━━━━━━━━━━━━━━━\u001b[0m\u001b[37m\u001b[0m \u001b[1m15s\u001b[0m 235ms/step - accuracy: 0.6325 - loss: 0.6451 - val_accuracy: 0.6325 - val_loss: 0.6258 - learning_rate: 0.0010\n",
      "Epoch 14/100\n",
      "\u001b[1m63/63\u001b[0m \u001b[32m━━━━━━━━━━━━━━━━━━━━\u001b[0m\u001b[37m\u001b[0m \u001b[1m0s\u001b[0m 233ms/step - accuracy: 0.6171 - loss: 0.6528\n",
      "Epoch 14: val_accuracy improved from 0.63250 to 0.67000, saving model to improved_cnn_best.h5\n"
     ]
    },
    {
     "name": "stderr",
     "output_type": "stream",
     "text": [
      "WARNING:absl:You are saving your model as an HDF5 file via `model.save()` or `keras.saving.save_model(model)`. This file format is considered legacy. We recommend using instead the native Keras format, e.g. `model.save('my_model.keras')` or `keras.saving.save_model(model, 'my_model.keras')`. \n"
     ]
    },
    {
     "name": "stdout",
     "output_type": "stream",
     "text": [
      "\u001b[1m63/63\u001b[0m \u001b[32m━━━━━━━━━━━━━━━━━━━━\u001b[0m\u001b[37m\u001b[0m \u001b[1m16s\u001b[0m 246ms/step - accuracy: 0.6315 - loss: 0.6431 - val_accuracy: 0.6700 - val_loss: 0.6079 - learning_rate: 0.0010\n",
      "Epoch 15/100\n",
      "\u001b[1m63/63\u001b[0m \u001b[32m━━━━━━━━━━━━━━━━━━━━\u001b[0m\u001b[37m\u001b[0m \u001b[1m0s\u001b[0m 228ms/step - accuracy: 0.6520 - loss: 0.6355\n",
      "Epoch 15: val_accuracy did not improve from 0.67000\n",
      "\u001b[1m63/63\u001b[0m \u001b[32m━━━━━━━━━━━━━━━━━━━━\u001b[0m\u001b[37m\u001b[0m \u001b[1m15s\u001b[0m 239ms/step - accuracy: 0.6485 - loss: 0.6351 - val_accuracy: 0.6050 - val_loss: 0.6643 - learning_rate: 0.0010\n",
      "Epoch 16/100\n",
      "\u001b[1m63/63\u001b[0m \u001b[32m━━━━━━━━━━━━━━━━━━━━\u001b[0m\u001b[37m\u001b[0m \u001b[1m0s\u001b[0m 228ms/step - accuracy: 0.6386 - loss: 0.6367\n",
      "Epoch 16: val_accuracy improved from 0.67000 to 0.70250, saving model to improved_cnn_best.h5\n"
     ]
    },
    {
     "name": "stderr",
     "output_type": "stream",
     "text": [
      "WARNING:absl:You are saving your model as an HDF5 file via `model.save()` or `keras.saving.save_model(model)`. This file format is considered legacy. We recommend using instead the native Keras format, e.g. `model.save('my_model.keras')` or `keras.saving.save_model(model, 'my_model.keras')`. \n"
     ]
    },
    {
     "name": "stdout",
     "output_type": "stream",
     "text": [
      "\u001b[1m63/63\u001b[0m \u001b[32m━━━━━━━━━━━━━━━━━━━━\u001b[0m\u001b[37m\u001b[0m \u001b[1m15s\u001b[0m 242ms/step - accuracy: 0.6465 - loss: 0.6458 - val_accuracy: 0.7025 - val_loss: 0.5862 - learning_rate: 0.0010\n",
      "Epoch 17/100\n",
      "\u001b[1m63/63\u001b[0m \u001b[32m━━━━━━━━━━━━━━━━━━━━\u001b[0m\u001b[37m\u001b[0m \u001b[1m0s\u001b[0m 222ms/step - accuracy: 0.6214 - loss: 0.6458\n",
      "Epoch 17: val_accuracy did not improve from 0.70250\n",
      "\u001b[1m63/63\u001b[0m \u001b[32m━━━━━━━━━━━━━━━━━━━━\u001b[0m\u001b[37m\u001b[0m \u001b[1m15s\u001b[0m 233ms/step - accuracy: 0.6235 - loss: 0.6413 - val_accuracy: 0.6325 - val_loss: 0.6397 - learning_rate: 0.0010\n",
      "Epoch 18/100\n",
      "\u001b[1m63/63\u001b[0m \u001b[32m━━━━━━━━━━━━━━━━━━━━\u001b[0m\u001b[37m\u001b[0m \u001b[1m0s\u001b[0m 221ms/step - accuracy: 0.6498 - loss: 0.6221\n",
      "Epoch 18: val_accuracy did not improve from 0.70250\n",
      "\u001b[1m63/63\u001b[0m \u001b[32m━━━━━━━━━━━━━━━━━━━━\u001b[0m\u001b[37m\u001b[0m \u001b[1m15s\u001b[0m 231ms/step - accuracy: 0.6370 - loss: 0.6379 - val_accuracy: 0.5800 - val_loss: 0.6557 - learning_rate: 0.0010\n",
      "Epoch 19/100\n",
      "\u001b[1m63/63\u001b[0m \u001b[32m━━━━━━━━━━━━━━━━━━━━\u001b[0m\u001b[37m\u001b[0m \u001b[1m0s\u001b[0m 218ms/step - accuracy: 0.6475 - loss: 0.6291\n",
      "Epoch 19: val_accuracy did not improve from 0.70250\n",
      "\u001b[1m63/63\u001b[0m \u001b[32m━━━━━━━━━━━━━━━━━━━━\u001b[0m\u001b[37m\u001b[0m \u001b[1m15s\u001b[0m 228ms/step - accuracy: 0.6485 - loss: 0.6311 - val_accuracy: 0.6400 - val_loss: 0.6154 - learning_rate: 0.0010\n",
      "Epoch 20/100\n",
      "\u001b[1m63/63\u001b[0m \u001b[32m━━━━━━━━━━━━━━━━━━━━\u001b[0m\u001b[37m\u001b[0m \u001b[1m0s\u001b[0m 218ms/step - accuracy: 0.6687 - loss: 0.6059\n",
      "Epoch 20: val_accuracy did not improve from 0.70250\n",
      "\u001b[1m63/63\u001b[0m \u001b[32m━━━━━━━━━━━━━━━━━━━━\u001b[0m\u001b[37m\u001b[0m \u001b[1m15s\u001b[0m 229ms/step - accuracy: 0.6520 - loss: 0.6277 - val_accuracy: 0.6450 - val_loss: 0.6336 - learning_rate: 0.0010\n",
      "Epoch 21/100\n",
      "\u001b[1m63/63\u001b[0m \u001b[32m━━━━━━━━━━━━━━━━━━━━\u001b[0m\u001b[37m\u001b[0m \u001b[1m0s\u001b[0m 220ms/step - accuracy: 0.6413 - loss: 0.6334\n",
      "Epoch 21: ReduceLROnPlateau reducing learning rate to 0.0005000000237487257.\n",
      "\n",
      "Epoch 21: val_accuracy did not improve from 0.70250\n",
      "\u001b[1m63/63\u001b[0m \u001b[32m━━━━━━━━━━━━━━━━━━━━\u001b[0m\u001b[37m\u001b[0m \u001b[1m15s\u001b[0m 230ms/step - accuracy: 0.6535 - loss: 0.6228 - val_accuracy: 0.6550 - val_loss: 0.6181 - learning_rate: 0.0010\n",
      "Epoch 22/100\n",
      "\u001b[1m63/63\u001b[0m \u001b[32m━━━━━━━━━━━━━━━━━━━━\u001b[0m\u001b[37m\u001b[0m \u001b[1m0s\u001b[0m 221ms/step - accuracy: 0.6654 - loss: 0.5989\n",
      "Epoch 22: val_accuracy did not improve from 0.70250\n",
      "\u001b[1m63/63\u001b[0m \u001b[32m━━━━━━━━━━━━━━━━━━━━\u001b[0m\u001b[37m\u001b[0m \u001b[1m15s\u001b[0m 233ms/step - accuracy: 0.6735 - loss: 0.6099 - val_accuracy: 0.6675 - val_loss: 0.6129 - learning_rate: 5.0000e-04\n",
      "Epoch 23/100\n",
      "\u001b[1m63/63\u001b[0m \u001b[32m━━━━━━━━━━━━━━━━━━━━\u001b[0m\u001b[37m\u001b[0m \u001b[1m0s\u001b[0m 221ms/step - accuracy: 0.6676 - loss: 0.5998\n",
      "Epoch 23: val_accuracy did not improve from 0.70250\n",
      "\u001b[1m63/63\u001b[0m \u001b[32m━━━━━━━━━━━━━━━━━━━━\u001b[0m\u001b[37m\u001b[0m \u001b[1m15s\u001b[0m 232ms/step - accuracy: 0.6670 - loss: 0.6057 - val_accuracy: 0.6775 - val_loss: 0.5822 - learning_rate: 5.0000e-04\n",
      "Epoch 24/100\n",
      "\u001b[1m63/63\u001b[0m \u001b[32m━━━━━━━━━━━━━━━━━━━━\u001b[0m\u001b[37m\u001b[0m \u001b[1m0s\u001b[0m 222ms/step - accuracy: 0.6578 - loss: 0.6000\n",
      "Epoch 24: val_accuracy did not improve from 0.70250\n",
      "\u001b[1m63/63\u001b[0m \u001b[32m━━━━━━━━━━━━━━━━━━━━\u001b[0m\u001b[37m\u001b[0m \u001b[1m15s\u001b[0m 234ms/step - accuracy: 0.6830 - loss: 0.5917 - val_accuracy: 0.6475 - val_loss: 0.6002 - learning_rate: 5.0000e-04\n",
      "Epoch 25/100\n",
      "\u001b[1m63/63\u001b[0m \u001b[32m━━━━━━━━━━━━━━━━━━━━\u001b[0m\u001b[37m\u001b[0m \u001b[1m0s\u001b[0m 220ms/step - accuracy: 0.6749 - loss: 0.5913\n",
      "Epoch 25: val_accuracy improved from 0.70250 to 0.74000, saving model to improved_cnn_best.h5\n"
     ]
    },
    {
     "name": "stderr",
     "output_type": "stream",
     "text": [
      "WARNING:absl:You are saving your model as an HDF5 file via `model.save()` or `keras.saving.save_model(model)`. This file format is considered legacy. We recommend using instead the native Keras format, e.g. `model.save('my_model.keras')` or `keras.saving.save_model(model, 'my_model.keras')`. \n"
     ]
    },
    {
     "name": "stdout",
     "output_type": "stream",
     "text": [
      "\u001b[1m63/63\u001b[0m \u001b[32m━━━━━━━━━━━━━━━━━━━━\u001b[0m\u001b[37m\u001b[0m \u001b[1m15s\u001b[0m 233ms/step - accuracy: 0.6845 - loss: 0.5914 - val_accuracy: 0.7400 - val_loss: 0.5311 - learning_rate: 5.0000e-04\n",
      "Epoch 26/100\n",
      "\u001b[1m63/63\u001b[0m \u001b[32m━━━━━━━━━━━━━━━━━━━━\u001b[0m\u001b[37m\u001b[0m \u001b[1m0s\u001b[0m 224ms/step - accuracy: 0.6739 - loss: 0.5972\n",
      "Epoch 26: val_accuracy improved from 0.74000 to 0.75500, saving model to improved_cnn_best.h5\n"
     ]
    },
    {
     "name": "stderr",
     "output_type": "stream",
     "text": [
      "WARNING:absl:You are saving your model as an HDF5 file via `model.save()` or `keras.saving.save_model(model)`. This file format is considered legacy. We recommend using instead the native Keras format, e.g. `model.save('my_model.keras')` or `keras.saving.save_model(model, 'my_model.keras')`. \n"
     ]
    },
    {
     "name": "stdout",
     "output_type": "stream",
     "text": [
      "\u001b[1m63/63\u001b[0m \u001b[32m━━━━━━━━━━━━━━━━━━━━\u001b[0m\u001b[37m\u001b[0m \u001b[1m15s\u001b[0m 238ms/step - accuracy: 0.6815 - loss: 0.5928 - val_accuracy: 0.7550 - val_loss: 0.5317 - learning_rate: 5.0000e-04\n",
      "Epoch 27/100\n",
      "\u001b[1m63/63\u001b[0m \u001b[32m━━━━━━━━━━━━━━━━━━━━\u001b[0m\u001b[37m\u001b[0m \u001b[1m0s\u001b[0m 226ms/step - accuracy: 0.6805 - loss: 0.6005\n",
      "Epoch 27: val_accuracy did not improve from 0.75500\n",
      "\u001b[1m63/63\u001b[0m \u001b[32m━━━━━━━━━━━━━━━━━━━━\u001b[0m\u001b[37m\u001b[0m \u001b[1m15s\u001b[0m 236ms/step - accuracy: 0.6875 - loss: 0.5909 - val_accuracy: 0.6400 - val_loss: 0.6162 - learning_rate: 5.0000e-04\n",
      "Epoch 28/100\n",
      "\u001b[1m63/63\u001b[0m \u001b[32m━━━━━━━━━━━━━━━━━━━━\u001b[0m\u001b[37m\u001b[0m \u001b[1m0s\u001b[0m 219ms/step - accuracy: 0.6871 - loss: 0.5887\n",
      "Epoch 28: val_accuracy did not improve from 0.75500\n",
      "\u001b[1m63/63\u001b[0m \u001b[32m━━━━━━━━━━━━━━━━━━━━\u001b[0m\u001b[37m\u001b[0m \u001b[1m15s\u001b[0m 229ms/step - accuracy: 0.6770 - loss: 0.5945 - val_accuracy: 0.6875 - val_loss: 0.5793 - learning_rate: 5.0000e-04\n",
      "Epoch 29/100\n",
      "\u001b[1m63/63\u001b[0m \u001b[32m━━━━━━━━━━━━━━━━━━━━\u001b[0m\u001b[37m\u001b[0m \u001b[1m0s\u001b[0m 218ms/step - accuracy: 0.7063 - loss: 0.5713\n",
      "Epoch 29: val_accuracy did not improve from 0.75500\n",
      "\u001b[1m63/63\u001b[0m \u001b[32m━━━━━━━━━━━━━━━━━━━━\u001b[0m\u001b[37m\u001b[0m \u001b[1m15s\u001b[0m 229ms/step - accuracy: 0.6980 - loss: 0.5788 - val_accuracy: 0.6475 - val_loss: 0.6578 - learning_rate: 5.0000e-04\n",
      "Epoch 30/100\n",
      "\u001b[1m63/63\u001b[0m \u001b[32m━━━━━━━━━━━━━━━━━━━━\u001b[0m\u001b[37m\u001b[0m \u001b[1m0s\u001b[0m 221ms/step - accuracy: 0.7054 - loss: 0.5862\n",
      "Epoch 30: ReduceLROnPlateau reducing learning rate to 0.0002500000118743628.\n",
      "\n",
      "Epoch 30: val_accuracy did not improve from 0.75500\n",
      "\u001b[1m63/63\u001b[0m \u001b[32m━━━━━━━━━━━━━━━━━━━━\u001b[0m\u001b[37m\u001b[0m \u001b[1m15s\u001b[0m 232ms/step - accuracy: 0.7035 - loss: 0.5870 - val_accuracy: 0.7175 - val_loss: 0.5602 - learning_rate: 5.0000e-04\n",
      "Epoch 31/100\n",
      "\u001b[1m63/63\u001b[0m \u001b[32m━━━━━━━━━━━━━━━━━━━━\u001b[0m\u001b[37m\u001b[0m \u001b[1m0s\u001b[0m 218ms/step - accuracy: 0.7010 - loss: 0.5824\n",
      "Epoch 31: val_accuracy did not improve from 0.75500\n",
      "\u001b[1m63/63\u001b[0m \u001b[32m━━━━━━━━━━━━━━━━━━━━\u001b[0m\u001b[37m\u001b[0m \u001b[1m15s\u001b[0m 228ms/step - accuracy: 0.7070 - loss: 0.5784 - val_accuracy: 0.6675 - val_loss: 0.6076 - learning_rate: 2.5000e-04\n",
      "Epoch 32/100\n",
      "\u001b[1m63/63\u001b[0m \u001b[32m━━━━━━━━━━━━━━━━━━━━\u001b[0m\u001b[37m\u001b[0m \u001b[1m0s\u001b[0m 222ms/step - accuracy: 0.7110 - loss: 0.5565\n",
      "Epoch 32: val_accuracy did not improve from 0.75500\n",
      "\u001b[1m63/63\u001b[0m \u001b[32m━━━━━━━━━━━━━━━━━━━━\u001b[0m\u001b[37m\u001b[0m \u001b[1m15s\u001b[0m 232ms/step - accuracy: 0.7140 - loss: 0.5573 - val_accuracy: 0.6750 - val_loss: 0.6033 - learning_rate: 2.5000e-04\n",
      "Epoch 33/100\n",
      "\u001b[1m63/63\u001b[0m \u001b[32m━━━━━━━━━━━━━━━━━━━━\u001b[0m\u001b[37m\u001b[0m \u001b[1m0s\u001b[0m 221ms/step - accuracy: 0.7135 - loss: 0.5739\n",
      "Epoch 33: val_accuracy did not improve from 0.75500\n",
      "\u001b[1m63/63\u001b[0m \u001b[32m━━━━━━━━━━━━━━━━━━━━\u001b[0m\u001b[37m\u001b[0m \u001b[1m15s\u001b[0m 232ms/step - accuracy: 0.7145 - loss: 0.5621 - val_accuracy: 0.6950 - val_loss: 0.6134 - learning_rate: 2.5000e-04\n",
      "Epoch 34/100\n",
      "\u001b[1m63/63\u001b[0m \u001b[32m━━━━━━━━━━━━━━━━━━━━\u001b[0m\u001b[37m\u001b[0m \u001b[1m0s\u001b[0m 219ms/step - accuracy: 0.7079 - loss: 0.5604\n",
      "Epoch 34: val_accuracy did not improve from 0.75500\n",
      "\u001b[1m63/63\u001b[0m \u001b[32m━━━━━━━━━━━━━━━━━━━━\u001b[0m\u001b[37m\u001b[0m \u001b[1m15s\u001b[0m 229ms/step - accuracy: 0.7200 - loss: 0.5412 - val_accuracy: 0.6850 - val_loss: 0.5592 - learning_rate: 2.5000e-04\n",
      "Epoch 35/100\n",
      "\u001b[1m63/63\u001b[0m \u001b[32m━━━━━━━━━━━━━━━━━━━━\u001b[0m\u001b[37m\u001b[0m \u001b[1m0s\u001b[0m 219ms/step - accuracy: 0.7329 - loss: 0.5456\n",
      "Epoch 35: ReduceLROnPlateau reducing learning rate to 0.0001250000059371814.\n",
      "\n",
      "Epoch 35: val_accuracy did not improve from 0.75500\n",
      "\u001b[1m63/63\u001b[0m \u001b[32m━━━━━━━━━━━━━━━━━━━━\u001b[0m\u001b[37m\u001b[0m \u001b[1m15s\u001b[0m 230ms/step - accuracy: 0.7270 - loss: 0.5530 - val_accuracy: 0.7000 - val_loss: 0.5529 - learning_rate: 2.5000e-04\n",
      "Epoch 36/100\n",
      "\u001b[1m63/63\u001b[0m \u001b[32m━━━━━━━━━━━━━━━━━━━━\u001b[0m\u001b[37m\u001b[0m \u001b[1m0s\u001b[0m 221ms/step - accuracy: 0.7189 - loss: 0.5521\n",
      "Epoch 36: val_accuracy did not improve from 0.75500\n",
      "\u001b[1m63/63\u001b[0m \u001b[32m━━━━━━━━━━━━━━━━━━━━\u001b[0m\u001b[37m\u001b[0m \u001b[1m15s\u001b[0m 232ms/step - accuracy: 0.7210 - loss: 0.5529 - val_accuracy: 0.7475 - val_loss: 0.5065 - learning_rate: 1.2500e-04\n",
      "Epoch 36: early stopping\n",
      "Restoring model weights from the end of the best epoch: 26.\n",
      "\u001b[1m13/13\u001b[0m \u001b[32m━━━━━━━━━━━━━━━━━━━━\u001b[0m\u001b[37m\u001b[0m \u001b[1m1s\u001b[0m 71ms/step\n",
      "Final Test Accuracy: 0.7550\n"
     ]
    },
    {
     "data": {
      "image/png": "[encoded data removed]",
      "text/plain": [
       "<Figure size 800x600 with 2 Axes>"
      ]
     },
     "metadata": {},
     "output_type": "display_data"
    },
    {
     "name": "stdout",
     "output_type": "stream",
     "text": [
      "\n",
      "Classification Report:\n",
      "              precision    recall  f1-score   support\n",
      "\n",
      "         Dog       0.81      0.67      0.73       200\n",
      "         Cat       0.72      0.84      0.78       200\n",
      "\n",
      "    accuracy                           0.76       400\n",
      "   macro avg       0.76      0.76      0.75       400\n",
      "weighted avg       0.76      0.76      0.75       400\n",
      "\n",
      "\n",
      "4. Training transfer learning model...\n",
      "Transfer model parameters: 15,110,977\n",
      "Epoch 1/100\n"
     ]
    },
    {
     "name": "stderr",
     "output_type": "stream",
     "text": [
      "d:\\Code\\DogVsCat-classification-using-CNN\\.venv\\Lib\\site-packages\\keras\\src\\trainers\\data_adapters\\py_dataset_adapter.py:121: UserWarning: Your `PyDataset` class should call `super().__init__(**kwargs)` in its constructor. `**kwargs` can include `workers`, `use_multiprocessing`, `max_queue_size`. Do not pass these arguments to `fit()`, as they will be ignored.\n",
      "  self._warn_if_super_not_called()\n"
     ]
    },
    {
     "name": "stdout",
     "output_type": "stream",
     "text": [
      "\u001b[1m63/63\u001b[0m \u001b[32m━━━━━━━━━━━━━━━━━━━━\u001b[0m\u001b[37m\u001b[0m \u001b[1m0s\u001b[0m 434ms/step - accuracy: 0.6423 - loss: 0.7242\n",
      "Epoch 1: val_accuracy improved from None to 0.69500, saving model to transfer_learning_best.h5\n"
     ]
    },
    {
     "name": "stderr",
     "output_type": "stream",
     "text": [
      "WARNING:absl:You are saving your model as an HDF5 file via `model.save()` or `keras.saving.save_model(model)`. This file format is considered legacy. We recommend using instead the native Keras format, e.g. `model.save('my_model.keras')` or `keras.saving.save_model(model, 'my_model.keras')`. \n"
     ]
    },
    {
     "name": "stdout",
     "output_type": "stream",
     "text": [
      "\u001b[1m63/63\u001b[0m \u001b[32m━━━━━━━━━━━━━━━━━━━━\u001b[0m\u001b[37m\u001b[0m \u001b[1m35s\u001b[0m 513ms/step - accuracy: 0.6925 - loss: 0.6389 - val_accuracy: 0.6950 - val_loss: 1.6157 - learning_rate: 0.0010\n",
      "Epoch 2/100\n",
      "\u001b[1m63/63\u001b[0m \u001b[32m━━━━━━━━━━━━━━━━━━━━\u001b[0m\u001b[37m\u001b[0m \u001b[1m0s\u001b[0m 422ms/step - accuracy: 0.8318 - loss: 0.4099\n",
      "Epoch 2: val_accuracy did not improve from 0.69500\n",
      "\u001b[1m63/63\u001b[0m \u001b[32m━━━━━━━━━━━━━━━━━━━━\u001b[0m\u001b[37m\u001b[0m \u001b[1m31s\u001b[0m 492ms/step - accuracy: 0.8125 - loss: 0.4442 - val_accuracy: 0.6125 - val_loss: 2.6064 - learning_rate: 0.0010\n",
      "Epoch 3/100\n",
      "\u001b[1m63/63\u001b[0m \u001b[32m━━━━━━━━━━━━━━━━━━━━\u001b[0m\u001b[37m\u001b[0m \u001b[1m0s\u001b[0m 432ms/step - accuracy: 0.8342 - loss: 0.4292\n",
      "Epoch 3: val_accuracy did not improve from 0.69500\n",
      "\u001b[1m63/63\u001b[0m \u001b[32m━━━━━━━━━━━━━━━━━━━━\u001b[0m\u001b[37m\u001b[0m \u001b[1m32s\u001b[0m 499ms/step - accuracy: 0.8280 - loss: 0.4122 - val_accuracy: 0.5950 - val_loss: 2.8067 - learning_rate: 0.0010\n",
      "Epoch 4/100\n",
      "\u001b[1m63/63\u001b[0m \u001b[32m━━━━━━━━━━━━━━━━━━━━\u001b[0m\u001b[37m\u001b[0m \u001b[1m0s\u001b[0m 428ms/step - accuracy: 0.8450 - loss: 0.3697\n",
      "Epoch 4: val_accuracy improved from 0.69500 to 0.73750, saving model to transfer_learning_best.h5\n"
     ]
    },
    {
     "name": "stderr",
     "output_type": "stream",
     "text": [
      "WARNING:absl:You are saving your model as an HDF5 file via `model.save()` or `keras.saving.save_model(model)`. This file format is considered legacy. We recommend using instead the native Keras format, e.g. `model.save('my_model.keras')` or `keras.saving.save_model(model, 'my_model.keras')`. \n"
     ]
    },
    {
     "name": "stdout",
     "output_type": "stream",
     "text": [
      "\u001b[1m63/63\u001b[0m \u001b[32m━━━━━━━━━━━━━━━━━━━━\u001b[0m\u001b[37m\u001b[0m \u001b[1m32s\u001b[0m 499ms/step - accuracy: 0.8535 - loss: 0.3533 - val_accuracy: 0.7375 - val_loss: 1.0392 - learning_rate: 0.0010\n",
      "Epoch 5/100\n",
      "\u001b[1m63/63\u001b[0m \u001b[32m━━━━━━━━━━━━━━━━━━━━\u001b[0m\u001b[37m\u001b[0m \u001b[1m0s\u001b[0m 418ms/step - accuracy: 0.8601 - loss: 0.3369\n",
      "Epoch 5: val_accuracy improved from 0.73750 to 0.81000, saving model to transfer_learning_best.h5\n"
     ]
    },
    {
     "name": "stderr",
     "output_type": "stream",
     "text": [
      "WARNING:absl:You are saving your model as an HDF5 file via `model.save()` or `keras.saving.save_model(model)`. This file format is considered legacy. We recommend using instead the native Keras format, e.g. `model.save('my_model.keras')` or `keras.saving.save_model(model, 'my_model.keras')`. \n"
     ]
    },
    {
     "name": "stdout",
     "output_type": "stream",
     "text": [
      "\u001b[1m63/63\u001b[0m \u001b[32m━━━━━━━━━━━━━━━━━━━━\u001b[0m\u001b[37m\u001b[0m \u001b[1m31s\u001b[0m 488ms/step - accuracy: 0.8565 - loss: 0.3367 - val_accuracy: 0.8100 - val_loss: 0.5689 - learning_rate: 0.0010\n",
      "Epoch 6/100\n",
      "\u001b[1m63/63\u001b[0m \u001b[32m━━━━━━━━━━━━━━━━━━━━\u001b[0m\u001b[37m\u001b[0m \u001b[1m0s\u001b[0m 418ms/step - accuracy: 0.8756 - loss: 0.3039\n",
      "Epoch 6: val_accuracy improved from 0.81000 to 0.87250, saving model to transfer_learning_best.h5\n"
     ]
    },
    {
     "name": "stderr",
     "output_type": "stream",
     "text": [
      "WARNING:absl:You are saving your model as an HDF5 file via `model.save()` or `keras.saving.save_model(model)`. This file format is considered legacy. We recommend using instead the native Keras format, e.g. `model.save('my_model.keras')` or `keras.saving.save_model(model, 'my_model.keras')`. \n"
     ]
    },
    {
     "name": "stdout",
     "output_type": "stream",
     "text": [
      "\u001b[1m63/63\u001b[0m \u001b[32m━━━━━━━━━━━━━━━━━━━━\u001b[0m\u001b[37m\u001b[0m \u001b[1m31s\u001b[0m 491ms/step - accuracy: 0.8745 - loss: 0.3039 - val_accuracy: 0.8725 - val_loss: 0.3696 - learning_rate: 0.0010\n",
      "Epoch 7/100\n",
      "\u001b[1m63/63\u001b[0m \u001b[32m━━━━━━━━━━━━━━━━━━━━\u001b[0m\u001b[37m\u001b[0m \u001b[1m0s\u001b[0m 423ms/step - accuracy: 0.8706 - loss: 0.3261\n",
      "Epoch 7: val_accuracy improved from 0.87250 to 0.88250, saving model to transfer_learning_best.h5\n"
     ]
    },
    {
     "name": "stderr",
     "output_type": "stream",
     "text": [
      "WARNING:absl:You are saving your model as an HDF5 file via `model.save()` or `keras.saving.save_model(model)`. This file format is considered legacy. We recommend using instead the native Keras format, e.g. `model.save('my_model.keras')` or `keras.saving.save_model(model, 'my_model.keras')`. \n"
     ]
    },
    {
     "name": "stdout",
     "output_type": "stream",
     "text": [
      "\u001b[1m63/63\u001b[0m \u001b[32m━━━━━━━━━━━━━━━━━━━━\u001b[0m\u001b[37m\u001b[0m \u001b[1m31s\u001b[0m 496ms/step - accuracy: 0.8680 - loss: 0.3192 - val_accuracy: 0.8825 - val_loss: 0.3466 - learning_rate: 0.0010\n",
      "Epoch 8/100\n",
      "\u001b[1m63/63\u001b[0m \u001b[32m━━━━━━━━━━━━━━━━━━━━\u001b[0m\u001b[37m\u001b[0m \u001b[1m0s\u001b[0m 417ms/step - accuracy: 0.8848 - loss: 0.2867\n",
      "Epoch 8: val_accuracy improved from 0.88250 to 0.91750, saving model to transfer_learning_best.h5\n"
     ]
    },
    {
     "name": "stderr",
     "output_type": "stream",
     "text": [
      "WARNING:absl:You are saving your model as an HDF5 file via `model.save()` or `keras.saving.save_model(model)`. This file format is considered legacy. We recommend using instead the native Keras format, e.g. `model.save('my_model.keras')` or `keras.saving.save_model(model, 'my_model.keras')`. \n"
     ]
    },
    {
     "name": "stdout",
     "output_type": "stream",
     "text": [
      "\u001b[1m63/63\u001b[0m \u001b[32m━━━━━━━━━━━━━━━━━━━━\u001b[0m\u001b[37m\u001b[0m \u001b[1m31s\u001b[0m 488ms/step - accuracy: 0.8810 - loss: 0.2877 - val_accuracy: 0.9175 - val_loss: 0.2002 - learning_rate: 0.0010\n",
      "Epoch 9/100\n",
      "\u001b[1m63/63\u001b[0m \u001b[32m━━━━━━━━━━━━━━━━━━━━\u001b[0m\u001b[37m\u001b[0m \u001b[1m0s\u001b[0m 418ms/step - accuracy: 0.9010 - loss: 0.2576\n",
      "Epoch 9: val_accuracy did not improve from 0.91750\n",
      "\u001b[1m63/63\u001b[0m \u001b[32m━━━━━━━━━━━━━━━━━━━━\u001b[0m\u001b[37m\u001b[0m \u001b[1m31s\u001b[0m 488ms/step - accuracy: 0.8815 - loss: 0.2916 - val_accuracy: 0.8825 - val_loss: 0.3305 - learning_rate: 0.0010\n",
      "Epoch 10/100\n",
      "\u001b[1m63/63\u001b[0m \u001b[32m━━━━━━━━━━━━━━━━━━━━\u001b[0m\u001b[37m\u001b[0m \u001b[1m0s\u001b[0m 418ms/step - accuracy: 0.8734 - loss: 0.2887\n",
      "Epoch 10: val_accuracy did not improve from 0.91750\n",
      "\u001b[1m63/63\u001b[0m \u001b[32m━━━━━━━━━━━━━━━━━━━━\u001b[0m\u001b[37m\u001b[0m \u001b[1m31s\u001b[0m 488ms/step - accuracy: 0.8850 - loss: 0.2738 - val_accuracy: 0.8150 - val_loss: 0.5236 - learning_rate: 0.0010\n",
      "Epoch 11/100\n",
      "\u001b[1m63/63\u001b[0m \u001b[32m━━━━━━━━━━━━━━━━━━━━\u001b[0m\u001b[37m\u001b[0m \u001b[1m0s\u001b[0m 419ms/step - accuracy: 0.8922 - loss: 0.2643\n",
      "Epoch 11: val_accuracy did not improve from 0.91750\n",
      "\u001b[1m63/63\u001b[0m \u001b[32m━━━━━━━━━━━━━━━━━━━━\u001b[0m\u001b[37m\u001b[0m \u001b[1m31s\u001b[0m 486ms/step - accuracy: 0.8850 - loss: 0.2709 - val_accuracy: 0.9150 - val_loss: 0.2006 - learning_rate: 0.0010\n",
      "Epoch 12/100\n",
      "\u001b[1m63/63\u001b[0m \u001b[32m━━━━━━━━━━━━━━━━━━━━\u001b[0m\u001b[37m\u001b[0m \u001b[1m0s\u001b[0m 420ms/step - accuracy: 0.8945 - loss: 0.2681\n",
      "Epoch 12: val_accuracy did not improve from 0.91750\n",
      "\u001b[1m63/63\u001b[0m \u001b[32m━━━━━━━━━━━━━━━━━━━━\u001b[0m\u001b[37m\u001b[0m \u001b[1m31s\u001b[0m 487ms/step - accuracy: 0.8940 - loss: 0.2463 - val_accuracy: 0.8950 - val_loss: 0.2519 - learning_rate: 0.0010\n",
      "Epoch 13/100\n",
      "\u001b[1m63/63\u001b[0m \u001b[32m━━━━━━━━━━━━━━━━━━━━\u001b[0m\u001b[37m\u001b[0m \u001b[1m0s\u001b[0m 434ms/step - accuracy: 0.8831 - loss: 0.2596\n",
      "Epoch 13: ReduceLROnPlateau reducing learning rate to 0.0005000000237487257.\n",
      "\n",
      "Epoch 13: val_accuracy did not improve from 0.91750\n",
      "\u001b[1m63/63\u001b[0m \u001b[32m━━━━━━━━━━━━━━━━━━━━\u001b[0m\u001b[37m\u001b[0m \u001b[1m32s\u001b[0m 502ms/step - accuracy: 0.8920 - loss: 0.2550 - val_accuracy: 0.9125 - val_loss: 0.2116 - learning_rate: 0.0010\n",
      "Epoch 14/100\n",
      "\u001b[1m63/63\u001b[0m \u001b[32m━━━━━━━━━━━━━━━━━━━━\u001b[0m\u001b[37m\u001b[0m \u001b[1m0s\u001b[0m 423ms/step - accuracy: 0.9145 - loss: 0.2381\n",
      "Epoch 14: val_accuracy improved from 0.91750 to 0.94250, saving model to transfer_learning_best.h5\n"
     ]
    },
    {
     "name": "stderr",
     "output_type": "stream",
     "text": [
      "WARNING:absl:You are saving your model as an HDF5 file via `model.save()` or `keras.saving.save_model(model)`. This file format is considered legacy. We recommend using instead the native Keras format, e.g. `model.save('my_model.keras')` or `keras.saving.save_model(model, 'my_model.keras')`. \n"
     ]
    },
    {
     "name": "stdout",
     "output_type": "stream",
     "text": [
      "\u001b[1m63/63\u001b[0m \u001b[32m━━━━━━━━━━━━━━━━━━━━\u001b[0m\u001b[37m\u001b[0m \u001b[1m31s\u001b[0m 494ms/step - accuracy: 0.9225 - loss: 0.2139 - val_accuracy: 0.9425 - val_loss: 0.1679 - learning_rate: 5.0000e-04\n",
      "Epoch 15/100\n",
      "\u001b[1m63/63\u001b[0m \u001b[32m━━━━━━━━━━━━━━━━━━━━\u001b[0m\u001b[37m\u001b[0m \u001b[1m0s\u001b[0m 422ms/step - accuracy: 0.9232 - loss: 0.1983\n",
      "Epoch 15: val_accuracy improved from 0.94250 to 0.94500, saving model to transfer_learning_best.h5\n"
     ]
    },
    {
     "name": "stderr",
     "output_type": "stream",
     "text": [
      "WARNING:absl:You are saving your model as an HDF5 file via `model.save()` or `keras.saving.save_model(model)`. This file format is considered legacy. We recommend using instead the native Keras format, e.g. `model.save('my_model.keras')` or `keras.saving.save_model(model, 'my_model.keras')`. \n"
     ]
    },
    {
     "name": "stdout",
     "output_type": "stream",
     "text": [
      "\u001b[1m63/63\u001b[0m \u001b[32m━━━━━━━━━━━━━━━━━━━━\u001b[0m\u001b[37m\u001b[0m \u001b[1m31s\u001b[0m 492ms/step - accuracy: 0.9130 - loss: 0.2247 - val_accuracy: 0.9450 - val_loss: 0.1573 - learning_rate: 5.0000e-04\n",
      "Epoch 16/100\n",
      "\u001b[1m63/63\u001b[0m \u001b[32m━━━━━━━━━━━━━━━━━━━━\u001b[0m\u001b[37m\u001b[0m \u001b[1m0s\u001b[0m 428ms/step - accuracy: 0.9211 - loss: 0.1849\n",
      "Epoch 16: val_accuracy did not improve from 0.94500\n",
      "\u001b[1m63/63\u001b[0m \u001b[32m━━━━━━━━━━━━━━━━━━━━\u001b[0m\u001b[37m\u001b[0m \u001b[1m31s\u001b[0m 495ms/step - accuracy: 0.9195 - loss: 0.1919 - val_accuracy: 0.8750 - val_loss: 0.2682 - learning_rate: 5.0000e-04\n",
      "Epoch 17/100\n",
      "\u001b[1m63/63\u001b[0m \u001b[32m━━━━━━━━━━━━━━━━━━━━\u001b[0m\u001b[37m\u001b[0m \u001b[1m0s\u001b[0m 419ms/step - accuracy: 0.9268 - loss: 0.1835\n",
      "Epoch 17: val_accuracy did not improve from 0.94500\n",
      "\u001b[1m63/63\u001b[0m \u001b[32m━━━━━━━━━━━━━━━━━━━━\u001b[0m\u001b[37m\u001b[0m \u001b[1m31s\u001b[0m 487ms/step - accuracy: 0.9270 - loss: 0.1821 - val_accuracy: 0.9400 - val_loss: 0.1784 - learning_rate: 5.0000e-04\n",
      "Epoch 18/100\n",
      "\u001b[1m63/63\u001b[0m \u001b[32m━━━━━━━━━━━━━━━━━━━━\u001b[0m\u001b[37m\u001b[0m \u001b[1m0s\u001b[0m 418ms/step - accuracy: 0.9102 - loss: 0.2160\n",
      "Epoch 18: val_accuracy did not improve from 0.94500\n",
      "\u001b[1m63/63\u001b[0m \u001b[32m━━━━━━━━━━━━━━━━━━━━\u001b[0m\u001b[37m\u001b[0m \u001b[1m31s\u001b[0m 488ms/step - accuracy: 0.9215 - loss: 0.2042 - val_accuracy: 0.9425 - val_loss: 0.1643 - learning_rate: 5.0000e-04\n",
      "Epoch 19/100\n",
      "\u001b[1m63/63\u001b[0m \u001b[32m━━━━━━━━━━━━━━━━━━━━\u001b[0m\u001b[37m\u001b[0m \u001b[1m0s\u001b[0m 422ms/step - accuracy: 0.9184 - loss: 0.1876\n",
      "Epoch 19: val_accuracy did not improve from 0.94500\n",
      "\u001b[1m63/63\u001b[0m \u001b[32m━━━━━━━━━━━━━━━━━━━━\u001b[0m\u001b[37m\u001b[0m \u001b[1m31s\u001b[0m 488ms/step - accuracy: 0.9135 - loss: 0.1944 - val_accuracy: 0.9300 - val_loss: 0.1695 - learning_rate: 5.0000e-04\n",
      "Epoch 20/100\n",
      "\u001b[1m63/63\u001b[0m \u001b[32m━━━━━━━━━━━━━━━━━━━━\u001b[0m\u001b[37m\u001b[0m \u001b[1m0s\u001b[0m 427ms/step - accuracy: 0.9239 - loss: 0.1532\n",
      "Epoch 20: ReduceLROnPlateau reducing learning rate to 0.0002500000118743628.\n",
      "\n",
      "Epoch 20: val_accuracy did not improve from 0.94500\n",
      "\u001b[1m63/63\u001b[0m \u001b[32m━━━━━━━━━━━━━━━━━━━━\u001b[0m\u001b[37m\u001b[0m \u001b[1m31s\u001b[0m 495ms/step - accuracy: 0.9300 - loss: 0.1618 - val_accuracy: 0.9100 - val_loss: 0.2171 - learning_rate: 5.0000e-04\n",
      "Epoch 21/100\n",
      "\u001b[1m63/63\u001b[0m \u001b[32m━━━━━━━━━━━━━━━━━━━━\u001b[0m\u001b[37m\u001b[0m \u001b[1m0s\u001b[0m 424ms/step - accuracy: 0.9181 - loss: 0.1949\n",
      "Epoch 21: val_accuracy did not improve from 0.94500\n",
      "\u001b[1m63/63\u001b[0m \u001b[32m━━━━━━━━━━━━━━━━━━━━\u001b[0m\u001b[37m\u001b[0m \u001b[1m31s\u001b[0m 493ms/step - accuracy: 0.9250 - loss: 0.1798 - val_accuracy: 0.9325 - val_loss: 0.1559 - learning_rate: 2.5000e-04\n",
      "Epoch 22/100\n",
      "\u001b[1m63/63\u001b[0m \u001b[32m━━━━━━━━━━━━━━━━━━━━\u001b[0m\u001b[37m\u001b[0m \u001b[1m0s\u001b[0m 435ms/step - accuracy: 0.9336 - loss: 0.1546\n",
      "Epoch 22: val_accuracy did not improve from 0.94500\n",
      "\u001b[1m63/63\u001b[0m \u001b[32m━━━━━━━━━━━━━━━━━━━━\u001b[0m\u001b[37m\u001b[0m \u001b[1m32s\u001b[0m 504ms/step - accuracy: 0.9390 - loss: 0.1568 - val_accuracy: 0.8850 - val_loss: 0.2440 - learning_rate: 2.5000e-04\n",
      "Epoch 23/100\n",
      "\u001b[1m63/63\u001b[0m \u001b[32m━━━━━━━━━━━━━━━━━━━━\u001b[0m\u001b[37m\u001b[0m \u001b[1m0s\u001b[0m 429ms/step - accuracy: 0.9413 - loss: 0.1544\n",
      "Epoch 23: val_accuracy did not improve from 0.94500\n",
      "\u001b[1m63/63\u001b[0m \u001b[32m━━━━━━━━━━━━━━━━━━━━\u001b[0m\u001b[37m\u001b[0m \u001b[1m31s\u001b[0m 497ms/step - accuracy: 0.9420 - loss: 0.1458 - val_accuracy: 0.9225 - val_loss: 0.2025 - learning_rate: 2.5000e-04\n",
      "Epoch 24/100\n",
      "\u001b[1m63/63\u001b[0m \u001b[32m━━━━━━━━━━━━━━━━━━━━\u001b[0m\u001b[37m\u001b[0m \u001b[1m0s\u001b[0m 422ms/step - accuracy: 0.9342 - loss: 0.1644\n",
      "Epoch 24: val_accuracy did not improve from 0.94500\n",
      "\u001b[1m63/63\u001b[0m \u001b[32m━━━━━━━━━━━━━━━━━━━━\u001b[0m\u001b[37m\u001b[0m \u001b[1m31s\u001b[0m 490ms/step - accuracy: 0.9410 - loss: 0.1477 - val_accuracy: 0.9300 - val_loss: 0.1714 - learning_rate: 2.5000e-04\n",
      "Epoch 25/100\n",
      "\u001b[1m63/63\u001b[0m \u001b[32m━━━━━━━━━━━━━━━━━━━━\u001b[0m\u001b[37m\u001b[0m \u001b[1m0s\u001b[0m 466ms/step - accuracy: 0.9391 - loss: 0.1290\n",
      "Epoch 25: val_accuracy did not improve from 0.94500\n",
      "\u001b[1m63/63\u001b[0m \u001b[32m━━━━━━━━━━━━━━━━━━━━\u001b[0m\u001b[37m\u001b[0m \u001b[1m34s\u001b[0m 538ms/step - accuracy: 0.9415 - loss: 0.1430 - val_accuracy: 0.8875 - val_loss: 0.3076 - learning_rate: 2.5000e-04\n",
      "Epoch 25: early stopping\n",
      "Restoring model weights from the end of the best epoch: 15.\n",
      "\u001b[1m13/13\u001b[0m \u001b[32m━━━━━━━━━━━━━━━━━━━━\u001b[0m\u001b[37m\u001b[0m \u001b[1m5s\u001b[0m 353ms/step\n",
      "Final Test Accuracy: 0.9450\n"
     ]
    },
    {
     "data": {
      "image/png": "[encoded data removed]",
      "text/plain": [
       "<Figure size 800x600 with 2 Axes>"
      ]
     },
     "metadata": {},
     "output_type": "display_data"
    },
    {
     "name": "stdout",
     "output_type": "stream",
     "text": [
      "\n",
      "Classification Report:\n",
      "              precision    recall  f1-score   support\n",
      "\n",
      "         Dog       0.97      0.92      0.94       200\n",
      "         Cat       0.92      0.97      0.95       200\n",
      "\n",
      "    accuracy                           0.94       400\n",
      "   macro avg       0.95      0.95      0.94       400\n",
      "weighted avg       0.95      0.94      0.94       400\n",
      "\n",
      "\n",
      "5. Creating ensemble prediction...\n",
      "\u001b[1m13/13\u001b[0m \u001b[32m━━━━━━━━━━━━━━━━━━━━\u001b[0m\u001b[37m\u001b[0m \u001b[1m1s\u001b[0m 53ms/step\n",
      "\u001b[1m13/13\u001b[0m \u001b[32m━━━━━━━━━━━━━━━━━━━━\u001b[0m\u001b[37m\u001b[0m \u001b[1m4s\u001b[0m 329ms/step\n",
      "Ensemble Accuracy: 0.9350\n",
      "\n",
      "==================================================\n",
      "FINAL RESULTS COMPARISON:\n",
      "==================================================\n",
      "Improved CNN Accuracy: 0.7550\n",
      "Transfer Learning Accuracy: 0.9450\n",
      "Ensemble Accuracy: 0.9350\n",
      "==================================================\n"
     ]
    }
   ],
   "source": [
    "if __name__ == \"__main__\":\n",
    "    improved_model, transfer_model, final_accuracy = main()"
   ]
  }
 ],
 "metadata": {
  "kernelspec": {
   "display_name": ".venv",
   "language": "python",
   "name": "python3"
  },
  "language_info": {
   "codemirror_mode": {
    "name": "ipython",
    "version": 3
   },
   "file_extension": ".py",
   "mimetype": "text/x-python",
   "name": "python",
   "nbconvert_exporter": "python",
   "pygments_lexer": "ipython3",
   "version": "3.11.3"
  }
 },
 "nbformat": 4,
 "nbformat_minor": 5
}
